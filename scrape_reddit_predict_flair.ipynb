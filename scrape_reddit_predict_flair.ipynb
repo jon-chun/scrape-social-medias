{
 "cells": [
  {
   "cell_type": "markdown",
   "id": "6c6306cb",
   "metadata": {
    "id": "0QlHBr-njtds",
    "papermill": {
     "duration": 0.027032,
     "end_time": "2022-01-02T17:53:48.394723",
     "exception": false,
     "start_time": "2022-01-02T17:53:48.367691",
     "status": "completed"
    },
    "tags": []
   },
   "source": [
    "# Reddit scraping project\n",
    "In this project, I will scrape the subreddit [r/EDAnonymous](https://www.reddit.com/r/EDAnonymous/) and try different machine learning models to see whether they can predict the \"flair\" (tag) on posts. "
   ]
  },
  {
   "cell_type": "markdown",
   "id": "be771a4e",
   "metadata": {
    "id": "JDbwIgunkQev",
    "papermill": {
     "duration": 0.025234,
     "end_time": "2022-01-02T17:53:48.445970",
     "exception": false,
     "start_time": "2022-01-02T17:53:48.420736",
     "status": "completed"
    },
    "tags": []
   },
   "source": [
    "### required packages"
   ]
  },
  {
   "cell_type": "code",
   "execution_count": 1,
   "id": "ecc5328d",
   "metadata": {
    "execution": {
     "iopub.execute_input": "2022-01-02T17:53:48.504100Z",
     "iopub.status.busy": "2022-01-02T17:53:48.502237Z",
     "iopub.status.idle": "2022-01-02T17:54:22.780670Z",
     "shell.execute_reply": "2022-01-02T17:54:22.779436Z",
     "shell.execute_reply.started": "2022-01-02T17:51:37.854053Z"
    },
    "id": "HaDt_3uGorkF",
    "papermill": {
     "duration": 34.3091,
     "end_time": "2022-01-02T17:54:22.780868",
     "exception": false,
     "start_time": "2022-01-02T17:53:48.471768",
     "status": "completed"
    },
    "tags": []
   },
   "outputs": [
    {
     "name": "stdout",
     "output_type": "stream",
     "text": [
      "\u001b[33mWARNING: Running pip as the 'root' user can result in broken permissions and conflicting behaviour with the system package manager. It is recommended to use a virtual environment instead: https://pip.pypa.io/warnings/venv\u001b[0m\r\n",
      "Collecting en-core-web-md==3.1.0\r\n",
      "  Downloading https://github.com/explosion/spacy-models/releases/download/en_core_web_md-3.1.0/en_core_web_md-3.1.0-py3-none-any.whl (45.4 MB)\r\n",
      "     |████████████████████████████████| 45.4 MB 3.0 MB/s            \r\n",
      "\u001b[?25hRequirement already satisfied: spacy<3.2.0,>=3.1.0 in /opt/conda/lib/python3.7/site-packages (from en-core-web-md==3.1.0) (3.1.4)\r\n",
      "Requirement already satisfied: cymem<2.1.0,>=2.0.2 in /opt/conda/lib/python3.7/site-packages (from spacy<3.2.0,>=3.1.0->en-core-web-md==3.1.0) (2.0.6)\r\n",
      "Requirement already satisfied: numpy>=1.15.0 in /opt/conda/lib/python3.7/site-packages (from spacy<3.2.0,>=3.1.0->en-core-web-md==3.1.0) (1.19.5)\r\n",
      "Requirement already satisfied: preshed<3.1.0,>=3.0.2 in /opt/conda/lib/python3.7/site-packages (from spacy<3.2.0,>=3.1.0->en-core-web-md==3.1.0) (3.0.6)\r\n",
      "Requirement already satisfied: setuptools in /opt/conda/lib/python3.7/site-packages (from spacy<3.2.0,>=3.1.0->en-core-web-md==3.1.0) (59.1.1)\r\n",
      "Requirement already satisfied: tqdm<5.0.0,>=4.38.0 in /opt/conda/lib/python3.7/site-packages (from spacy<3.2.0,>=3.1.0->en-core-web-md==3.1.0) (4.62.3)\r\n",
      "Requirement already satisfied: pydantic!=1.8,!=1.8.1,<1.9.0,>=1.7.4 in /opt/conda/lib/python3.7/site-packages (from spacy<3.2.0,>=3.1.0->en-core-web-md==3.1.0) (1.8.2)\r\n",
      "Requirement already satisfied: packaging>=20.0 in /opt/conda/lib/python3.7/site-packages (from spacy<3.2.0,>=3.1.0->en-core-web-md==3.1.0) (21.0)\r\n",
      "Requirement already satisfied: murmurhash<1.1.0,>=0.28.0 in /opt/conda/lib/python3.7/site-packages (from spacy<3.2.0,>=3.1.0->en-core-web-md==3.1.0) (1.0.6)\r\n",
      "Requirement already satisfied: requests<3.0.0,>=2.13.0 in /opt/conda/lib/python3.7/site-packages (from spacy<3.2.0,>=3.1.0->en-core-web-md==3.1.0) (2.25.1)\r\n",
      "Requirement already satisfied: spacy-legacy<3.1.0,>=3.0.8 in /opt/conda/lib/python3.7/site-packages (from spacy<3.2.0,>=3.1.0->en-core-web-md==3.1.0) (3.0.8)\r\n",
      "Requirement already satisfied: jinja2 in /opt/conda/lib/python3.7/site-packages (from spacy<3.2.0,>=3.1.0->en-core-web-md==3.1.0) (3.0.3)\r\n",
      "Requirement already satisfied: thinc<8.1.0,>=8.0.12 in /opt/conda/lib/python3.7/site-packages (from spacy<3.2.0,>=3.1.0->en-core-web-md==3.1.0) (8.0.13)\r\n",
      "Requirement already satisfied: srsly<3.0.0,>=2.4.1 in /opt/conda/lib/python3.7/site-packages (from spacy<3.2.0,>=3.1.0->en-core-web-md==3.1.0) (2.4.2)\r\n",
      "Requirement already satisfied: wasabi<1.1.0,>=0.8.1 in /opt/conda/lib/python3.7/site-packages (from spacy<3.2.0,>=3.1.0->en-core-web-md==3.1.0) (0.8.2)\r\n",
      "Requirement already satisfied: blis<0.8.0,>=0.4.0 in /opt/conda/lib/python3.7/site-packages (from spacy<3.2.0,>=3.1.0->en-core-web-md==3.1.0) (0.7.5)\r\n",
      "Requirement already satisfied: catalogue<2.1.0,>=2.0.6 in /opt/conda/lib/python3.7/site-packages (from spacy<3.2.0,>=3.1.0->en-core-web-md==3.1.0) (2.0.6)\r\n",
      "Requirement already satisfied: pathy>=0.3.5 in /opt/conda/lib/python3.7/site-packages (from spacy<3.2.0,>=3.1.0->en-core-web-md==3.1.0) (0.6.1)\r\n",
      "Requirement already satisfied: typer<0.5.0,>=0.3.0 in /opt/conda/lib/python3.7/site-packages (from spacy<3.2.0,>=3.1.0->en-core-web-md==3.1.0) (0.4.0)\r\n",
      "Requirement already satisfied: typing-extensions<4.0.0.0,>=3.7.4 in /opt/conda/lib/python3.7/site-packages (from spacy<3.2.0,>=3.1.0->en-core-web-md==3.1.0) (3.10.0.2)\r\n",
      "Requirement already satisfied: zipp>=0.5 in /opt/conda/lib/python3.7/site-packages (from catalogue<2.1.0,>=2.0.6->spacy<3.2.0,>=3.1.0->en-core-web-md==3.1.0) (3.6.0)\r\n",
      "Requirement already satisfied: pyparsing>=2.0.2 in /opt/conda/lib/python3.7/site-packages (from packaging>=20.0->spacy<3.2.0,>=3.1.0->en-core-web-md==3.1.0) (3.0.6)\r\n",
      "Requirement already satisfied: smart-open<6.0.0,>=5.0.0 in /opt/conda/lib/python3.7/site-packages (from pathy>=0.3.5->spacy<3.2.0,>=3.1.0->en-core-web-md==3.1.0) (5.2.1)\r\n",
      "Requirement already satisfied: idna<3,>=2.5 in /opt/conda/lib/python3.7/site-packages (from requests<3.0.0,>=2.13.0->spacy<3.2.0,>=3.1.0->en-core-web-md==3.1.0) (2.10)\r\n",
      "Requirement already satisfied: chardet<5,>=3.0.2 in /opt/conda/lib/python3.7/site-packages (from requests<3.0.0,>=2.13.0->spacy<3.2.0,>=3.1.0->en-core-web-md==3.1.0) (4.0.0)\r\n",
      "Requirement already satisfied: certifi>=2017.4.17 in /opt/conda/lib/python3.7/site-packages (from requests<3.0.0,>=2.13.0->spacy<3.2.0,>=3.1.0->en-core-web-md==3.1.0) (2021.10.8)\r\n",
      "Requirement already satisfied: urllib3<1.27,>=1.21.1 in /opt/conda/lib/python3.7/site-packages (from requests<3.0.0,>=2.13.0->spacy<3.2.0,>=3.1.0->en-core-web-md==3.1.0) (1.26.7)\r\n",
      "Requirement already satisfied: click<9.0.0,>=7.1.1 in /opt/conda/lib/python3.7/site-packages (from typer<0.5.0,>=0.3.0->spacy<3.2.0,>=3.1.0->en-core-web-md==3.1.0) (8.0.3)\r\n",
      "Requirement already satisfied: MarkupSafe>=2.0 in /opt/conda/lib/python3.7/site-packages (from jinja2->spacy<3.2.0,>=3.1.0->en-core-web-md==3.1.0) (2.0.1)\r\n",
      "Requirement already satisfied: importlib-metadata in /opt/conda/lib/python3.7/site-packages (from click<9.0.0,>=7.1.1->typer<0.5.0,>=0.3.0->spacy<3.2.0,>=3.1.0->en-core-web-md==3.1.0) (4.8.2)\r\n",
      "Installing collected packages: en-core-web-md\r\n",
      "Successfully installed en-core-web-md-3.1.0\r\n",
      "\u001b[33mWARNING: Running pip as the 'root' user can result in broken permissions and conflicting behaviour with the system package manager. It is recommended to use a virtual environment instead: https://pip.pypa.io/warnings/venv\u001b[0m\r\n",
      "\u001b[38;5;2m✔ Download and installation successful\u001b[0m\r\n",
      "You can now load the package via spacy.load('en_core_web_md')\r\n"
     ]
    }
   ],
   "source": [
    "!pip install praw -q #official python reddit API wrapper\n",
    "!python -m spacy download en_core_web_md"
   ]
  },
  {
   "cell_type": "code",
   "execution_count": 2,
   "id": "d9e0ce58",
   "metadata": {
    "execution": {
     "iopub.execute_input": "2022-01-02T17:54:22.879127Z",
     "iopub.status.busy": "2022-01-02T17:54:22.878363Z",
     "iopub.status.idle": "2022-01-02T17:54:30.603306Z",
     "shell.execute_reply": "2022-01-02T17:54:30.602401Z"
    },
    "id": "X0Y-sa06KBoJ",
    "papermill": {
     "duration": 7.778183,
     "end_time": "2022-01-02T17:54:30.603488",
     "exception": false,
     "start_time": "2022-01-02T17:54:22.825305",
     "status": "completed"
    },
    "tags": []
   },
   "outputs": [
    {
     "name": "stdout",
     "output_type": "stream",
     "text": [
      "[nltk_data] Downloading package stopwords to /usr/share/nltk_data...\n",
      "[nltk_data]   Package stopwords is already up-to-date!\n"
     ]
    }
   ],
   "source": [
    "import praw\n",
    "import numpy as np\n",
    "import pandas as pd\n",
    "import re\n",
    "import nltk\n",
    "nltk.download('stopwords')\n",
    "from nltk.corpus import stopwords\n",
    "import string\n",
    "import spacy\n",
    "import warnings\n",
    "warnings.filterwarnings('ignore')\n",
    "\n",
    "nlp = spacy.load(\"en_core_web_md\")\n",
    "\n",
    "import torch\n",
    "from sklearn.model_selection import train_test_split\n",
    "from sklearn.feature_extraction.text import CountVectorizer\n",
    "from sklearn import metrics\n",
    "from sklearn.pipeline import Pipeline\n",
    "from sklearn.feature_extraction.text import TfidfVectorizer\n",
    "from sklearn.svm import LinearSVC\n",
    "from sklearn.feature_selection import chi2\n",
    "\n",
    "from kaggle_secrets import UserSecretsClient\n",
    "user_secrets = UserSecretsClient()\n",
    "secret_value_0 = user_secrets.get_secret(\"reddit_client_id\")\n",
    "secret_value_1 = user_secrets.get_secret(\"reddit_client_secret\")"
   ]
  },
  {
   "cell_type": "markdown",
   "id": "a2d51472",
   "metadata": {
    "id": "7LpeD1blJK2Y",
    "papermill": {
     "duration": 0.044515,
     "end_time": "2022-01-02T17:54:30.692628",
     "exception": false,
     "start_time": "2022-01-02T17:54:30.648113",
     "status": "completed"
    },
    "tags": []
   },
   "source": [
    "### scraping\n",
    "You can download the scraped dataset [here](https://www.kaggle.com/matakahas/reddit-redanomymous-dataset)."
   ]
  },
  {
   "cell_type": "code",
   "execution_count": 3,
   "id": "5685f7ab",
   "metadata": {
    "execution": {
     "iopub.execute_input": "2022-01-02T17:54:30.786588Z",
     "iopub.status.busy": "2022-01-02T17:54:30.785845Z",
     "iopub.status.idle": "2022-01-02T17:54:30.865319Z",
     "shell.execute_reply": "2022-01-02T17:54:30.865924Z"
    },
    "id": "FzD0TQxmo72n",
    "papermill": {
     "duration": 0.128379,
     "end_time": "2022-01-02T17:54:30.866202",
     "exception": false,
     "start_time": "2022-01-02T17:54:30.737823",
     "status": "completed"
    },
    "tags": []
   },
   "outputs": [],
   "source": [
    "# Read-only instance\n",
    "reddit_read_only = praw.Reddit(client_id=secret_value_0, #your client id\n",
    "                               client_secret=secret_value_1, #your client secret\n",
    "                               user_agent=\"personal Reddit project by u/Comfortable-Watch-92\")"
   ]
  },
  {
   "cell_type": "code",
   "execution_count": 4,
   "id": "f011481a",
   "metadata": {
    "execution": {
     "iopub.execute_input": "2022-01-02T17:54:30.976294Z",
     "iopub.status.busy": "2022-01-02T17:54:30.975251Z",
     "iopub.status.idle": "2022-01-02T17:54:30.979477Z",
     "shell.execute_reply": "2022-01-02T17:54:30.980006Z"
    },
    "id": "FDOZ0lZLuDDc",
    "papermill": {
     "duration": 0.053556,
     "end_time": "2022-01-02T17:54:30.980275",
     "exception": false,
     "start_time": "2022-01-02T17:54:30.926719",
     "status": "completed"
    },
    "tags": []
   },
   "outputs": [],
   "source": [
    "subreddit = reddit_read_only.subreddit(\"EDAnonymous\")"
   ]
  },
  {
   "cell_type": "markdown",
   "id": "9e5092f1",
   "metadata": {
    "id": "TX1jTAlN-fua",
    "papermill": {
     "duration": 0.044819,
     "end_time": "2022-01-02T17:54:31.070938",
     "exception": false,
     "start_time": "2022-01-02T17:54:31.026119",
     "status": "completed"
    },
    "tags": []
   },
   "source": [
    "The code below scrapes the top 1000 posts of the current month, and stores relevant information to the dictionary"
   ]
  },
  {
   "cell_type": "code",
   "execution_count": 5,
   "id": "739f9043",
   "metadata": {
    "execution": {
     "iopub.execute_input": "2022-01-02T17:54:31.165210Z",
     "iopub.status.busy": "2022-01-02T17:54:31.164254Z",
     "iopub.status.idle": "2022-01-02T17:55:10.761239Z",
     "shell.execute_reply": "2022-01-02T17:55:10.760578Z"
    },
    "id": "VOjNxIyCu3mb",
    "papermill": {
     "duration": 39.644104,
     "end_time": "2022-01-02T17:55:10.761425",
     "exception": false,
     "start_time": "2022-01-02T17:54:31.117321",
     "status": "completed"
    },
    "tags": []
   },
   "outputs": [],
   "source": [
    "sub_limit = 1000\n",
    "posts = subreddit.top(\"month\", limit=sub_limit)\n",
    " \n",
    "posts_dict = {\"Title\": [], \"Post Text\": [],\n",
    "              \"Flair\": [], \"Score\": [],\n",
    "              \"Total Comments\": [], \"Post URL\": []\n",
    "              }\n",
    " \n",
    "for post in posts:\n",
    "    # Title of each post\n",
    "    posts_dict[\"Title\"].append(post.title)\n",
    "     \n",
    "    # Text inside a post\n",
    "    posts_dict[\"Post Text\"].append(post.selftext)\n",
    "     \n",
    "    # Unique ID of each post\n",
    "    posts_dict[\"Flair\"].append(post.link_flair_text)\n",
    "     \n",
    "    # The score of a post\n",
    "    posts_dict[\"Score\"].append(post.score)\n",
    "     \n",
    "    # Total number of comments inside the post\n",
    "    posts_dict[\"Total Comments\"].append(post.num_comments)\n",
    "     \n",
    "    # URL of each post\n",
    "    posts_dict[\"Post URL\"].append(post.url)\n",
    " \n",
    "# Saving the data in a pandas dataframe\n",
    "top_posts = pd.DataFrame(posts_dict)"
   ]
  },
  {
   "cell_type": "code",
   "execution_count": 6,
   "id": "48504e20",
   "metadata": {
    "execution": {
     "iopub.execute_input": "2022-01-02T17:55:10.861675Z",
     "iopub.status.busy": "2022-01-02T17:55:10.860968Z",
     "iopub.status.idle": "2022-01-02T17:55:10.877692Z",
     "shell.execute_reply": "2022-01-02T17:55:10.878229Z"
    },
    "id": "jJDdY18X5ufW",
    "outputId": "f3fb40e9-d048-4565-c4d3-89ee45e62291",
    "papermill": {
     "duration": 0.071075,
     "end_time": "2022-01-02T17:55:10.878409",
     "exception": false,
     "start_time": "2022-01-02T17:55:10.807334",
     "status": "completed"
    },
    "tags": []
   },
   "outputs": [
    {
     "data": {
      "text/html": [
       "<div>\n",
       "<style scoped>\n",
       "    .dataframe tbody tr th:only-of-type {\n",
       "        vertical-align: middle;\n",
       "    }\n",
       "\n",
       "    .dataframe tbody tr th {\n",
       "        vertical-align: top;\n",
       "    }\n",
       "\n",
       "    .dataframe thead th {\n",
       "        text-align: right;\n",
       "    }\n",
       "</style>\n",
       "<table border=\"1\" class=\"dataframe\">\n",
       "  <thead>\n",
       "    <tr style=\"text-align: right;\">\n",
       "      <th></th>\n",
       "      <th>Text</th>\n",
       "      <th>Flair</th>\n",
       "    </tr>\n",
       "  </thead>\n",
       "  <tbody>\n",
       "    <tr>\n",
       "      <th>0</th>\n",
       "      <td>Raise your hand if you have been personally vi...</td>\n",
       "      <td>Shitpost</td>\n",
       "    </tr>\n",
       "    <tr>\n",
       "      <th>1</th>\n",
       "      <td>y’all need better boyfriends. that’s it. that’...</td>\n",
       "      <td>Rant / Rave</td>\n",
       "    </tr>\n",
       "    <tr>\n",
       "      <th>2</th>\n",
       "      <td>My ancestors ate high calorie meals to survive...</td>\n",
       "      <td>Shitpost</td>\n",
       "    </tr>\n",
       "    <tr>\n",
       "      <th>3</th>\n",
       "      <td>Can people stop commenting competitive stuff o...</td>\n",
       "      <td>Meta</td>\n",
       "    </tr>\n",
       "    <tr>\n",
       "      <th>4</th>\n",
       "      <td>Showing your pain by losing weight ? Does anyo...</td>\n",
       "      <td>TW</td>\n",
       "    </tr>\n",
       "  </tbody>\n",
       "</table>\n",
       "</div>"
      ],
      "text/plain": [
       "                                                Text        Flair\n",
       "0  Raise your hand if you have been personally vi...     Shitpost\n",
       "1  y’all need better boyfriends. that’s it. that’...  Rant / Rave\n",
       "2  My ancestors ate high calorie meals to survive...     Shitpost\n",
       "3  Can people stop commenting competitive stuff o...         Meta\n",
       "4  Showing your pain by losing weight ? Does anyo...           TW"
      ]
     },
     "execution_count": 6,
     "metadata": {},
     "output_type": "execute_result"
    }
   ],
   "source": [
    "data = {'Text': top_posts['Title'] + ' ' + top_posts['Post Text'], 'Flair': top_posts['Flair']}\n",
    "df = pd.DataFrame(data=data)\n",
    "df.head()"
   ]
  },
  {
   "cell_type": "code",
   "execution_count": 7,
   "id": "936341a9",
   "metadata": {
    "execution": {
     "iopub.execute_input": "2022-01-02T17:55:10.973687Z",
     "iopub.status.busy": "2022-01-02T17:55:10.972984Z",
     "iopub.status.idle": "2022-01-02T17:55:10.978544Z",
     "shell.execute_reply": "2022-01-02T17:55:10.979120Z"
    },
    "id": "joVfz-2aCYio",
    "outputId": "0a0cbcfe-bc0a-43b3-92d3-4dafaff512b6",
    "papermill": {
     "duration": 0.055405,
     "end_time": "2022-01-02T17:55:10.979297",
     "exception": false,
     "start_time": "2022-01-02T17:55:10.923892",
     "status": "completed"
    },
    "tags": []
   },
   "outputs": [
    {
     "data": {
      "text/plain": [
       "[\"Raise your hand if you have been personally victimized by: •The biggest loser\\n•Red band society \\n•Skins\\n•2013 Tumblr\\n•the late 90's/early 00's\\n•peanut butter\\n•the doctor's office\\n•middle school health class\\n•that one period that your mum did Atkins\\n•that one time everyone was calling Britney spears fat\\n•kpop\\n•Asian sizes\\n•One size stores\\n•your younger sister\\n•low rise jeans\\n•that Random aunt pinching your chicks\\nAnd/or •freelee the banana girl\",\n",
       " 'y’all need better boyfriends. that’s it. that’s the post.',\n",
       " 'My ancestors ate high calorie meals to survive through harsh winters and pass their genes onto me and here I am, eating veggies and hovering on the radiator They would NOT be impressed. Or proud.',\n",
       " 'Can people stop commenting competitive stuff on recovery wins and struggle posts? just saw someone celebrating their favourite pizza place reopening and they spoke about eating pizza with essentially no fucks given. thats great! why the hell is there someone in the comments listing the small amount of food they ate and talking about how they wont be eating dinner “but i hope you enjoyed it!”\\ncan the mods make a rule about that? seriously some of you people are fucking weird and cant think for two seconds on why saying stuff like that is entirely uncalled for',\n",
       " \"Showing your pain by losing weight ? Does anyone else feel like they want to show their pain by just whittling away ? Like. You aren't seen regularly so to justify this you just outwardly project it?\\n\\nI take every single little Inconvenience. Painful memory. Self Depricating thought. And Unfortunate turn of events and feed it into the fire of this disorder. \\n\\nI can't be the only one. \\n\\nThen when you hide it...the reason for the weight loss..it is like you are winning your own secret game.\"]"
      ]
     },
     "execution_count": 7,
     "metadata": {},
     "output_type": "execute_result"
    }
   ],
   "source": [
    "df['Text'].tolist()[:5]"
   ]
  },
  {
   "cell_type": "markdown",
   "id": "46aa6242",
   "metadata": {
    "id": "RDQi882JJYIN",
    "papermill": {
     "duration": 0.044876,
     "end_time": "2022-01-02T17:55:11.069721",
     "exception": false,
     "start_time": "2022-01-02T17:55:11.024845",
     "status": "completed"
    },
    "tags": []
   },
   "source": [
    "### pre-processing\n",
    "I'll rename some of the flairs with similar concepts to in order to reduce the number of categories. I will also remove stopwords and make the letters lower case."
   ]
  },
  {
   "cell_type": "code",
   "execution_count": 8,
   "id": "e3acf886",
   "metadata": {
    "execution": {
     "iopub.execute_input": "2022-01-02T17:55:11.164075Z",
     "iopub.status.busy": "2022-01-02T17:55:11.163324Z",
     "iopub.status.idle": "2022-01-02T17:55:11.172891Z",
     "shell.execute_reply": "2022-01-02T17:55:11.173459Z"
    },
    "id": "yTxwOosJBUF0",
    "papermill": {
     "duration": 0.058207,
     "end_time": "2022-01-02T17:55:11.173644",
     "exception": false,
     "start_time": "2022-01-02T17:55:11.115437",
     "status": "completed"
    },
    "tags": []
   },
   "outputs": [],
   "source": [
    "#drop rows (posts) with no flairs\n",
    "df = df.dropna(subset=['Flair'])"
   ]
  },
  {
   "cell_type": "code",
   "execution_count": 9,
   "id": "62a52991",
   "metadata": {
    "execution": {
     "iopub.execute_input": "2022-01-02T17:55:11.268325Z",
     "iopub.status.busy": "2022-01-02T17:55:11.267537Z",
     "iopub.status.idle": "2022-01-02T17:55:11.283286Z",
     "shell.execute_reply": "2022-01-02T17:55:11.283921Z"
    },
    "id": "JUU26XvgD-Fg",
    "outputId": "fbc7b3ef-1172-48bb-ebda-4cca10b7d546",
    "papermill": {
     "duration": 0.064842,
     "end_time": "2022-01-02T17:55:11.284105",
     "exception": false,
     "start_time": "2022-01-02T17:55:11.219263",
     "status": "completed"
    },
    "tags": []
   },
   "outputs": [
    {
     "data": {
      "text/plain": [
       "Discussion         191\n",
       "Rant / Rave        188\n",
       "TW                 170\n",
       "Shitpost            85\n",
       "oh no               83\n",
       "Recovery            75\n",
       "Food                39\n",
       "Story Time          24\n",
       "Family Vent         16\n",
       "Harm Reduction      15\n",
       "Educational          6\n",
       "Fatphobia            3\n",
       "Substance abuse      3\n",
       "Meta                 1\n",
       "question             1\n",
       "Story Time - TW      1\n",
       "Name: Flair, dtype: int64"
      ]
     },
     "execution_count": 9,
     "metadata": {},
     "output_type": "execute_result"
    }
   ],
   "source": [
    "df['Flair'] = df['Flair'].apply(lambda x: re.sub(r'TW.*', 'TW', x))\n",
    "df['Flair'] = df['Flair'].apply(lambda x: re.sub(r'Recovery.*', 'Recovery', x))\n",
    "df['Flair'].value_counts(dropna=False)"
   ]
  },
  {
   "cell_type": "code",
   "execution_count": 10,
   "id": "53d73966",
   "metadata": {
    "execution": {
     "iopub.execute_input": "2022-01-02T17:55:11.379974Z",
     "iopub.status.busy": "2022-01-02T17:55:11.379242Z",
     "iopub.status.idle": "2022-01-02T17:55:11.411339Z",
     "shell.execute_reply": "2022-01-02T17:55:11.412047Z"
    },
    "id": "ltyETRlqHWE4",
    "papermill": {
     "duration": 0.081862,
     "end_time": "2022-01-02T17:55:11.412244",
     "exception": false,
     "start_time": "2022-01-02T17:55:11.330382",
     "status": "completed"
    },
    "tags": []
   },
   "outputs": [],
   "source": [
    "#select 5 largest categories and save the dataset to csv file\n",
    "categories = ['Discussion', 'Rant / Rave', 'TW', 'Shitpost', 'Recovery']\n",
    "df = df.loc[df['Flair'].isin(categories) == True,]\n",
    "df.to_csv('raw_data.csv')"
   ]
  },
  {
   "cell_type": "code",
   "execution_count": 11,
   "id": "faed5a7b",
   "metadata": {
    "execution": {
     "iopub.execute_input": "2022-01-02T17:55:11.508444Z",
     "iopub.status.busy": "2022-01-02T17:55:11.507727Z",
     "iopub.status.idle": "2022-01-02T17:55:11.521774Z",
     "shell.execute_reply": "2022-01-02T17:55:11.522357Z"
    },
    "id": "Pr1Fbq-1CB3N",
    "papermill": {
     "duration": 0.063526,
     "end_time": "2022-01-02T17:55:11.522533",
     "exception": false,
     "start_time": "2022-01-02T17:55:11.459007",
     "status": "completed"
    },
    "tags": []
   },
   "outputs": [],
   "source": [
    "df = pd.read_csv('raw_data.csv') #export the dataset as a csv file"
   ]
  },
  {
   "cell_type": "code",
   "execution_count": 12,
   "id": "296cc5fb",
   "metadata": {
    "execution": {
     "iopub.execute_input": "2022-01-02T17:55:11.621081Z",
     "iopub.status.busy": "2022-01-02T17:55:11.620367Z",
     "iopub.status.idle": "2022-01-02T17:55:22.542820Z",
     "shell.execute_reply": "2022-01-02T17:55:22.542310Z"
    },
    "id": "u16rgkubJfJ0",
    "outputId": "c015fb0c-3d0e-4dc5-f054-03618ad55e37",
    "papermill": {
     "duration": 10.972324,
     "end_time": "2022-01-02T17:55:22.542996",
     "exception": false,
     "start_time": "2022-01-02T17:55:11.570672",
     "status": "completed"
    },
    "tags": []
   },
   "outputs": [
    {
     "data": {
      "text/html": [
       "<div>\n",
       "<style scoped>\n",
       "    .dataframe tbody tr th:only-of-type {\n",
       "        vertical-align: middle;\n",
       "    }\n",
       "\n",
       "    .dataframe tbody tr th {\n",
       "        vertical-align: top;\n",
       "    }\n",
       "\n",
       "    .dataframe thead th {\n",
       "        text-align: right;\n",
       "    }\n",
       "</style>\n",
       "<table border=\"1\" class=\"dataframe\">\n",
       "  <thead>\n",
       "    <tr style=\"text-align: right;\">\n",
       "      <th></th>\n",
       "      <th>Unnamed: 0</th>\n",
       "      <th>Text</th>\n",
       "      <th>Flair</th>\n",
       "    </tr>\n",
       "  </thead>\n",
       "  <tbody>\n",
       "    <tr>\n",
       "      <th>0</th>\n",
       "      <td>0</td>\n",
       "      <td>raise hand personally victimized •the biggest ...</td>\n",
       "      <td>Shitpost</td>\n",
       "    </tr>\n",
       "    <tr>\n",
       "      <th>1</th>\n",
       "      <td>1</td>\n",
       "      <td>y’all need better boyfriends that’s that’s post</td>\n",
       "      <td>Rant / Rave</td>\n",
       "    </tr>\n",
       "    <tr>\n",
       "      <th>2</th>\n",
       "      <td>2</td>\n",
       "      <td>ancestors ate high calorie meals survive harsh...</td>\n",
       "      <td>Shitpost</td>\n",
       "    </tr>\n",
       "    <tr>\n",
       "      <th>3</th>\n",
       "      <td>4</td>\n",
       "      <td>showing pain losing weight anyone else feel li...</td>\n",
       "      <td>TW</td>\n",
       "    </tr>\n",
       "    <tr>\n",
       "      <th>4</th>\n",
       "      <td>5</td>\n",
       "      <td>guy i’m seeing told likes i’m “not skinny fat”...</td>\n",
       "      <td>Rant / Rave</td>\n",
       "    </tr>\n",
       "  </tbody>\n",
       "</table>\n",
       "</div>"
      ],
      "text/plain": [
       "   Unnamed: 0                                               Text        Flair\n",
       "0           0  raise hand personally victimized •the biggest ...     Shitpost\n",
       "1           1    y’all need better boyfriends that’s that’s post  Rant / Rave\n",
       "2           2  ancestors ate high calorie meals survive harsh...     Shitpost\n",
       "3           4  showing pain losing weight anyone else feel li...           TW\n",
       "4           5  guy i’m seeing told likes i’m “not skinny fat”...  Rant / Rave"
      ]
     },
     "execution_count": 12,
     "metadata": {},
     "output_type": "execute_result"
    }
   ],
   "source": [
    "def process(text):\n",
    "  nopunc = [char for char in text if char not in string.punctuation]\n",
    "  nopunc = ''.join(nopunc)\n",
    "  \n",
    "  clean = ' '.join(word.lower() for word in nopunc.split() if word.lower() not in stopwords.words('english'))\n",
    "  return clean\n",
    "\n",
    "df['Text'] = df['Text'].map(lambda x: process(x))\n",
    "\n",
    "df.head()"
   ]
  },
  {
   "cell_type": "markdown",
   "id": "3781d5c0",
   "metadata": {
    "id": "KWFAULrICSaM",
    "papermill": {
     "duration": 0.048096,
     "end_time": "2022-01-02T17:55:22.639013",
     "exception": false,
     "start_time": "2022-01-02T17:55:22.590917",
     "status": "completed"
    },
    "tags": []
   },
   "source": [
    "split between train and test data"
   ]
  },
  {
   "cell_type": "code",
   "execution_count": 13,
   "id": "bc928121",
   "metadata": {
    "execution": {
     "iopub.execute_input": "2022-01-02T17:55:22.752199Z",
     "iopub.status.busy": "2022-01-02T17:55:22.751505Z",
     "iopub.status.idle": "2022-01-02T17:55:22.763482Z",
     "shell.execute_reply": "2022-01-02T17:55:22.762607Z"
    },
    "id": "MmFFdNpjM7FG",
    "outputId": "29bcf3de-c7fe-4220-dd5a-aab19a5041e5",
    "papermill": {
     "duration": 0.072839,
     "end_time": "2022-01-02T17:55:22.763656",
     "exception": false,
     "start_time": "2022-01-02T17:55:22.690817",
     "status": "completed"
    },
    "tags": []
   },
   "outputs": [
    {
     "name": "stdout",
     "output_type": "stream",
     "text": [
      "567 142\n"
     ]
    }
   ],
   "source": [
    "X = df['Text']\n",
    "y = df['Flair']\n",
    "\n",
    "X_train, X_test, y_train, y_test = train_test_split(X, y, test_size=0.2, random_state=0, stratify=y)\n",
    "print(len(X_train), len(X_test))"
   ]
  },
  {
   "cell_type": "markdown",
   "id": "d08c4a05",
   "metadata": {
    "id": "y9-tso6tVUQS",
    "papermill": {
     "duration": 0.047401,
     "end_time": "2022-01-02T17:55:22.860741",
     "exception": false,
     "start_time": "2022-01-02T17:55:22.813340",
     "status": "completed"
    },
    "tags": []
   },
   "source": [
    "## single-layer neural network"
   ]
  },
  {
   "cell_type": "code",
   "execution_count": 14,
   "id": "89ab7402",
   "metadata": {
    "execution": {
     "iopub.execute_input": "2022-01-02T17:55:22.960829Z",
     "iopub.status.busy": "2022-01-02T17:55:22.960125Z",
     "iopub.status.idle": "2022-01-02T17:55:22.963281Z",
     "shell.execute_reply": "2022-01-02T17:55:22.962721Z"
    },
    "id": "VZ2wSTnqNSP6",
    "papermill": {
     "duration": 0.055484,
     "end_time": "2022-01-02T17:55:22.963444",
     "exception": false,
     "start_time": "2022-01-02T17:55:22.907960",
     "status": "completed"
    },
    "tags": []
   },
   "outputs": [],
   "source": [
    "def vectorize(text):\n",
    "  text = nlp(text)\n",
    "  vec = [word.vector for word in text]\n",
    "  return torch.tensor(sum(vec) / len(vec))"
   ]
  },
  {
   "cell_type": "code",
   "execution_count": 15,
   "id": "401cd5f9",
   "metadata": {
    "execution": {
     "iopub.execute_input": "2022-01-02T17:55:23.068523Z",
     "iopub.status.busy": "2022-01-02T17:55:23.067843Z",
     "iopub.status.idle": "2022-01-02T17:55:36.811690Z",
     "shell.execute_reply": "2022-01-02T17:55:36.812329Z"
    },
    "id": "yaemk-PhTYk6",
    "papermill": {
     "duration": 13.801462,
     "end_time": "2022-01-02T17:55:36.812520",
     "exception": false,
     "start_time": "2022-01-02T17:55:23.011058",
     "status": "completed"
    },
    "tags": []
   },
   "outputs": [],
   "source": [
    "X_train_tensor = torch.stack([vectorize(text) for text in X_train])\n",
    "X_test_tensor = torch.stack([vectorize(text) for text in X_test])\n",
    "\n",
    "mapping_dict = {'Discussion':0, 'Rant / Rave':1, 'TW':2, 'Shitpost':3, 'Recovery':4}\n",
    "\n",
    "y_train_tensor = torch.LongTensor(y_train.map(mapping_dict).values)\n",
    "y_test_tensor = torch.LongTensor(y_test.map(mapping_dict).values)"
   ]
  },
  {
   "cell_type": "code",
   "execution_count": 16,
   "id": "5008a1f4",
   "metadata": {
    "execution": {
     "iopub.execute_input": "2022-01-02T17:55:36.938063Z",
     "iopub.status.busy": "2022-01-02T17:55:36.937353Z",
     "iopub.status.idle": "2022-01-02T17:55:36.944780Z",
     "shell.execute_reply": "2022-01-02T17:55:36.944171Z"
    },
    "id": "JVUCjfDcTwlA",
    "papermill": {
     "duration": 0.074704,
     "end_time": "2022-01-02T17:55:36.944966",
     "exception": false,
     "start_time": "2022-01-02T17:55:36.870262",
     "status": "completed"
    },
    "tags": []
   },
   "outputs": [],
   "source": [
    "import torch.nn as nn\n",
    "\n",
    "class SingleNN(nn.Module):\n",
    "  def __init__(self, input_size, output_size):\n",
    "    super().__init__()\n",
    "    self.fc = nn.Linear(input_size, output_size, bias=False)\n",
    "    nn.init.normal_(self.fc.weight, 0.0, 1.0)\n",
    "  \n",
    "  def forward(self,x):\n",
    "    x = self.fc(x)\n",
    "    return x"
   ]
  },
  {
   "cell_type": "code",
   "execution_count": 17,
   "id": "f2bceddb",
   "metadata": {
    "execution": {
     "iopub.execute_input": "2022-01-02T17:55:37.051579Z",
     "iopub.status.busy": "2022-01-02T17:55:37.050889Z",
     "iopub.status.idle": "2022-01-02T17:55:37.078325Z",
     "shell.execute_reply": "2022-01-02T17:55:37.078818Z"
    },
    "id": "jWbfJE_yT4EY",
    "outputId": "3a11ad84-b300-4bca-c20f-3aa1a9743e20",
    "papermill": {
     "duration": 0.079863,
     "end_time": "2022-01-02T17:55:37.079028",
     "exception": false,
     "start_time": "2022-01-02T17:55:36.999165",
     "status": "completed"
    },
    "tags": []
   },
   "outputs": [
    {
     "data": {
      "text/plain": [
       "SingleNN(\n",
       "  (fc): Linear(in_features=300, out_features=5, bias=False)\n",
       ")"
      ]
     },
     "execution_count": 17,
     "metadata": {},
     "output_type": "execute_result"
    }
   ],
   "source": [
    "model = SingleNN(input_size=X_train_tensor.size()[1], output_size=5)\n",
    "criterion = nn.CrossEntropyLoss()\n",
    "model"
   ]
  },
  {
   "cell_type": "code",
   "execution_count": 18,
   "id": "eace5670",
   "metadata": {
    "execution": {
     "iopub.execute_input": "2022-01-02T17:55:37.183454Z",
     "iopub.status.busy": "2022-01-02T17:55:37.182762Z",
     "iopub.status.idle": "2022-01-02T17:55:37.186110Z",
     "shell.execute_reply": "2022-01-02T17:55:37.185522Z"
    },
    "id": "2z8hRlgUUS9j",
    "papermill": {
     "duration": 0.058151,
     "end_time": "2022-01-02T17:55:37.186281",
     "exception": false,
     "start_time": "2022-01-02T17:55:37.128130",
     "status": "completed"
    },
    "tags": []
   },
   "outputs": [],
   "source": [
    "optimizer = torch.optim.Adam(model.parameters(), lr=0.01)"
   ]
  },
  {
   "cell_type": "code",
   "execution_count": 19,
   "id": "d70cfb3b",
   "metadata": {
    "execution": {
     "iopub.execute_input": "2022-01-02T17:55:37.292250Z",
     "iopub.status.busy": "2022-01-02T17:55:37.291499Z",
     "iopub.status.idle": "2022-01-02T17:55:37.529994Z",
     "shell.execute_reply": "2022-01-02T17:55:37.529363Z"
    },
    "id": "HPiNdkAfT9k4",
    "papermill": {
     "duration": 0.294995,
     "end_time": "2022-01-02T17:55:37.530160",
     "exception": false,
     "start_time": "2022-01-02T17:55:37.235165",
     "status": "completed"
    },
    "tags": []
   },
   "outputs": [
    {
     "name": "stdout",
     "output_type": "stream",
     "text": [
      "epoch:   1  train_loss: 3.61970258\n",
      "epoch:  11  train_loss: 2.26477766\n",
      "epoch:  21  train_loss: 1.80710912\n",
      "epoch:  31  train_loss: 1.70539975\n",
      "epoch:  41  train_loss: 1.59294772\n",
      "epoch:  51  train_loss: 1.50916052\n",
      "epoch:  61  train_loss: 1.44941473\n",
      "epoch:  71  train_loss: 1.39656925\n",
      "epoch:  81  train_loss: 1.35267305\n",
      "epoch:  91  train_loss: 1.31429005\n",
      "epoch: 101  train_loss: 1.27972722\n",
      "epoch: 111  train_loss: 1.24827802\n",
      "epoch: 121  train_loss: 1.21936977\n",
      "epoch: 131  train_loss: 1.19258642\n",
      "epoch: 141  train_loss: 1.16764581\n",
      "epoch: 151  train_loss: 1.14434087\n",
      "epoch: 161  train_loss: 1.12250710\n",
      "epoch: 171  train_loss: 1.10200500\n",
      "epoch: 181  train_loss: 1.08271110\n",
      "epoch: 191  train_loss: 1.06451404\n",
      "epoch: 201  train_loss: 1.04731274\n",
      "epoch: 211  train_loss: 1.03101528\n",
      "epoch: 221  train_loss: 1.01553893\n",
      "epoch: 231  train_loss: 1.00080991\n",
      "epoch: 241  train_loss: 0.98676229\n",
      "epoch: 251  train_loss: 0.97333741\n",
      "epoch: 261  train_loss: 0.96048290\n",
      "epoch: 271  train_loss: 0.94815242\n",
      "epoch: 281  train_loss: 0.93630457\n",
      "epoch: 291  train_loss: 0.92490262\n"
     ]
    }
   ],
   "source": [
    "epochs = 300\n",
    "losses = []\n",
    "\n",
    "for i in range(epochs):\n",
    "    i+=1\n",
    "    y_pred = model(X_train_tensor)\n",
    "    loss = criterion(y_pred, y_train_tensor)\n",
    "    losses.append(loss)\n",
    "\n",
    "    optimizer.zero_grad()\n",
    "    loss.backward()\n",
    "    optimizer.step()\n",
    "\n",
    "    # a neat trick to save screen space:\n",
    "    if i%10 == 1:\n",
    "        print(f'epoch: {i:3}  train_loss: {loss.item():10.8f}')"
   ]
  },
  {
   "cell_type": "code",
   "execution_count": 20,
   "id": "6735e870",
   "metadata": {
    "execution": {
     "iopub.execute_input": "2022-01-02T17:55:37.639404Z",
     "iopub.status.busy": "2022-01-02T17:55:37.638635Z",
     "iopub.status.idle": "2022-01-02T17:55:37.654879Z",
     "shell.execute_reply": "2022-01-02T17:55:37.654318Z"
    },
    "id": "KX2CEvkXUUcZ",
    "outputId": "5689e2b2-7ade-43f7-bacc-032a388ee4bc",
    "papermill": {
     "duration": 0.073313,
     "end_time": "2022-01-02T17:55:37.655027",
     "exception": false,
     "start_time": "2022-01-02T17:55:37.581714",
     "status": "completed"
    },
    "tags": []
   },
   "outputs": [
    {
     "name": "stdout",
     "output_type": "stream",
     "text": [
      "\n",
      "63 out of 142 = 44.37% correct\n"
     ]
    }
   ],
   "source": [
    "rows = len(y_test_tensor)\n",
    "correct = 0\n",
    "\n",
    "with torch.no_grad():\n",
    "    y_val = model(X_test_tensor)\n",
    "\n",
    "for i in range(rows):\n",
    "    if y_val[i].argmax().item() == y_test_tensor[i]:\n",
    "        correct += 1\n",
    "\n",
    "print(f'\\n{correct} out of {rows} = {100*correct/rows:.2f}% correct')"
   ]
  },
  {
   "cell_type": "markdown",
   "id": "87452081",
   "metadata": {
    "id": "ieVzuLegaKoJ",
    "papermill": {
     "duration": 0.049558,
     "end_time": "2022-01-02T17:55:37.755632",
     "exception": false,
     "start_time": "2022-01-02T17:55:37.706074",
     "status": "completed"
    },
    "tags": []
   },
   "source": [
    "## linearSVC with count vectorizer"
   ]
  },
  {
   "cell_type": "code",
   "execution_count": 21,
   "id": "b2536e5f",
   "metadata": {
    "execution": {
     "iopub.execute_input": "2022-01-02T17:55:37.871843Z",
     "iopub.status.busy": "2022-01-02T17:55:37.871149Z",
     "iopub.status.idle": "2022-01-02T17:55:37.927799Z",
     "shell.execute_reply": "2022-01-02T17:55:37.927262Z"
    },
    "id": "Zk7U-hzgU81P",
    "outputId": "93328d6c-2ed1-46ae-9914-68650f4aa427",
    "papermill": {
     "duration": 0.122207,
     "end_time": "2022-01-02T17:55:37.927968",
     "exception": false,
     "start_time": "2022-01-02T17:55:37.805761",
     "status": "completed"
    },
    "tags": []
   },
   "outputs": [
    {
     "data": {
      "text/plain": [
       "(567, 5418)"
      ]
     },
     "execution_count": 21,
     "metadata": {},
     "output_type": "execute_result"
    }
   ],
   "source": [
    "cv = CountVectorizer()\n",
    "\n",
    "X_train_cv = cv.fit_transform(X_train)\n",
    "X_train_cv.shape"
   ]
  },
  {
   "cell_type": "code",
   "execution_count": 22,
   "id": "e1696911",
   "metadata": {
    "execution": {
     "iopub.execute_input": "2022-01-02T17:55:38.033319Z",
     "iopub.status.busy": "2022-01-02T17:55:38.032578Z",
     "iopub.status.idle": "2022-01-02T17:55:38.054714Z",
     "shell.execute_reply": "2022-01-02T17:55:38.055324Z"
    },
    "id": "sG-q1oC8bt_w",
    "outputId": "c2bdabde-0a71-4f9d-f5ff-ed72ac58ac43",
    "papermill": {
     "duration": 0.077036,
     "end_time": "2022-01-02T17:55:38.055515",
     "exception": false,
     "start_time": "2022-01-02T17:55:37.978479",
     "status": "completed"
    },
    "tags": []
   },
   "outputs": [
    {
     "data": {
      "text/plain": [
       "LinearSVC()"
      ]
     },
     "execution_count": 22,
     "metadata": {},
     "output_type": "execute_result"
    }
   ],
   "source": [
    "clf = LinearSVC()\n",
    "clf.fit(X_train_cv, y_train)"
   ]
  },
  {
   "cell_type": "code",
   "execution_count": 23,
   "id": "fa7b0e08",
   "metadata": {
    "execution": {
     "iopub.execute_input": "2022-01-02T17:55:38.161443Z",
     "iopub.status.busy": "2022-01-02T17:55:38.160722Z",
     "iopub.status.idle": "2022-01-02T17:55:38.178394Z",
     "shell.execute_reply": "2022-01-02T17:55:38.178914Z"
    },
    "id": "VWMwuF2Sb6UL",
    "papermill": {
     "duration": 0.072984,
     "end_time": "2022-01-02T17:55:38.179102",
     "exception": false,
     "start_time": "2022-01-02T17:55:38.106118",
     "status": "completed"
    },
    "tags": []
   },
   "outputs": [],
   "source": [
    "X_test_cv = cv.transform(X_test)"
   ]
  },
  {
   "cell_type": "code",
   "execution_count": 24,
   "id": "d2319f3e",
   "metadata": {
    "execution": {
     "iopub.execute_input": "2022-01-02T17:55:38.292350Z",
     "iopub.status.busy": "2022-01-02T17:55:38.291356Z",
     "iopub.status.idle": "2022-01-02T17:55:38.294263Z",
     "shell.execute_reply": "2022-01-02T17:55:38.294762Z"
    },
    "id": "sYtLdDH0ceO5",
    "papermill": {
     "duration": 0.06328,
     "end_time": "2022-01-02T17:55:38.294975",
     "exception": false,
     "start_time": "2022-01-02T17:55:38.231695",
     "status": "completed"
    },
    "tags": []
   },
   "outputs": [],
   "source": [
    "predictions = clf.predict(X_test_cv)"
   ]
  },
  {
   "cell_type": "code",
   "execution_count": 25,
   "id": "f046fffa",
   "metadata": {
    "execution": {
     "iopub.execute_input": "2022-01-02T17:55:38.405510Z",
     "iopub.status.busy": "2022-01-02T17:55:38.404754Z",
     "iopub.status.idle": "2022-01-02T17:55:38.412577Z",
     "shell.execute_reply": "2022-01-02T17:55:38.413484Z"
    },
    "id": "HUbSePFDczIR",
    "outputId": "10cb3c07-ff28-4698-c01a-c36bd216d421",
    "papermill": {
     "duration": 0.065821,
     "end_time": "2022-01-02T17:55:38.413752",
     "exception": false,
     "start_time": "2022-01-02T17:55:38.347931",
     "status": "completed"
    },
    "tags": []
   },
   "outputs": [
    {
     "name": "stdout",
     "output_type": "stream",
     "text": [
      "[[18 10  4  1  5]\n",
      " [13 11  4  2  8]\n",
      " [ 5  3  4  1  2]\n",
      " [ 5  3  2  4  3]\n",
      " [ 8 10  4  3  9]]\n",
      "0.323943661971831\n"
     ]
    }
   ],
   "source": [
    "# Report the confusion matrix\n",
    "print(metrics.confusion_matrix(y_test,predictions))\n",
    "# Print the overall accuracy\n",
    "print(metrics.accuracy_score(y_test,predictions))"
   ]
  },
  {
   "cell_type": "markdown",
   "id": "e440ee82",
   "metadata": {
    "id": "wPkklf8DdB9s",
    "papermill": {
     "duration": 0.052659,
     "end_time": "2022-01-02T17:55:38.521667",
     "exception": false,
     "start_time": "2022-01-02T17:55:38.469008",
     "status": "completed"
    },
    "tags": []
   },
   "source": [
    "## linearSVC with tf-idf vectorizer"
   ]
  },
  {
   "cell_type": "code",
   "execution_count": 26,
   "id": "dd012f31",
   "metadata": {
    "execution": {
     "iopub.execute_input": "2022-01-02T17:55:38.632499Z",
     "iopub.status.busy": "2022-01-02T17:55:38.631692Z",
     "iopub.status.idle": "2022-01-02T17:55:38.729444Z",
     "shell.execute_reply": "2022-01-02T17:55:38.729967Z"
    },
    "id": "PGh5VUzmc6Yo",
    "outputId": "15ec6990-0ca8-4502-d9dd-5d333925ed51",
    "papermill": {
     "duration": 0.156223,
     "end_time": "2022-01-02T17:55:38.730284",
     "exception": false,
     "start_time": "2022-01-02T17:55:38.574061",
     "status": "completed"
    },
    "tags": []
   },
   "outputs": [
    {
     "name": "stdout",
     "output_type": "stream",
     "text": [
      "40.85% correct\n"
     ]
    }
   ],
   "source": [
    "clf_tfidf_lsvc = Pipeline([('tfidf', TfidfVectorizer()),\n",
    "                     ('clf', LinearSVC())])\n",
    "\n",
    "# Feed the training data through the pipeline\n",
    "clf_tfidf_lsvc.fit(X_train, y_train)\n",
    "\n",
    "# Form a prediction set\n",
    "predictions = clf_tfidf_lsvc.predict(X_test)\n",
    "# Print the overall accuracy\n",
    "print('{}% correct'.format(round(metrics.accuracy_score(y_test,predictions)*100, 2)))"
   ]
  },
  {
   "cell_type": "markdown",
   "id": "fd4c9e3d",
   "metadata": {
    "id": "_ngvzoTgHYE0",
    "papermill": {
     "duration": 0.05144,
     "end_time": "2022-01-02T17:55:38.836759",
     "exception": false,
     "start_time": "2022-01-02T17:55:38.785319",
     "status": "completed"
    },
    "tags": []
   },
   "source": [
    "**Descriptive**: extract the top 5 words most correlated with each flair using tf-idf vectorizer (based on [this post](https://towardsdatascience.com/predicting-reddit-flairs-using-machine-learning-and-deploying-the-model-using-heroku-part-2-d681e397f258))"
   ]
  },
  {
   "cell_type": "code",
   "execution_count": 27,
   "id": "89aa9aa2",
   "metadata": {
    "execution": {
     "iopub.execute_input": "2022-01-02T17:55:38.946538Z",
     "iopub.status.busy": "2022-01-02T17:55:38.945824Z",
     "iopub.status.idle": "2022-01-02T17:55:38.951346Z",
     "shell.execute_reply": "2022-01-02T17:55:38.952116Z"
    },
    "id": "RjLN8tODjz4a",
    "papermill": {
     "duration": 0.064094,
     "end_time": "2022-01-02T17:55:38.952329",
     "exception": false,
     "start_time": "2022-01-02T17:55:38.888235",
     "status": "completed"
    },
    "tags": []
   },
   "outputs": [],
   "source": [
    "mapping_dict = {'Discussion':0, 'Rant / Rave':1, 'TW':2, 'Shitpost':3, 'Recovery':4}\n",
    "\n",
    "y = y.map(mapping_dict).values"
   ]
  },
  {
   "cell_type": "code",
   "execution_count": 28,
   "id": "0577c770",
   "metadata": {
    "execution": {
     "iopub.execute_input": "2022-01-02T17:55:39.062913Z",
     "iopub.status.busy": "2022-01-02T17:55:39.062191Z",
     "iopub.status.idle": "2022-01-02T17:55:39.183333Z",
     "shell.execute_reply": "2022-01-02T17:55:39.182741Z"
    },
    "id": "aJ6MzICujR8u",
    "papermill": {
     "duration": 0.176758,
     "end_time": "2022-01-02T17:55:39.183484",
     "exception": false,
     "start_time": "2022-01-02T17:55:39.006726",
     "status": "completed"
    },
    "tags": []
   },
   "outputs": [],
   "source": [
    "tfidf = TfidfVectorizer()\n",
    "feat = tfidf.fit_transform(X).toarray()"
   ]
  },
  {
   "cell_type": "code",
   "execution_count": 29,
   "id": "b4fe8126",
   "metadata": {
    "execution": {
     "iopub.execute_input": "2022-01-02T17:55:39.296305Z",
     "iopub.status.busy": "2022-01-02T17:55:39.295546Z",
     "iopub.status.idle": "2022-01-02T17:55:39.582255Z",
     "shell.execute_reply": "2022-01-02T17:55:39.583893Z"
    },
    "id": "RHngyiNrdfvd",
    "outputId": "3eb97d56-8728-48c4-e2ff-4d3bb8c22c2c",
    "papermill": {
     "duration": 0.347951,
     "end_time": "2022-01-02T17:55:39.584264",
     "exception": false,
     "start_time": "2022-01-02T17:55:39.236313",
     "status": "completed"
    },
    "tags": []
   },
   "outputs": [
    {
     "name": "stdout",
     "output_type": "stream",
     "text": [
      "\n",
      "Flair 'Discussion':\n",
      "Most correlated unigrams:\n",
      "\t. oatmeal\n",
      "\t. dae\n",
      "\t. hair\n",
      "\t. else\n",
      "\t. anyone\n",
      "\n",
      "Flair 'Rant / Rave':\n",
      "Most correlated unigrams:\n",
      "\t. waste\n",
      "\t. videos\n",
      "\t. fucking\n",
      "\t. finals\n",
      "\t. sake\n",
      "\n",
      "Flair 'Recovery':\n",
      "Most correlated unigrams:\n",
      "\t. imma\n",
      "\t. existing\n",
      "\t. step\n",
      "\t. scales\n",
      "\t. recovery\n",
      "\n",
      "Flair 'Shitpost':\n",
      "Most correlated unigrams:\n",
      "\t. hits\n",
      "\t. rip\n",
      "\t. cats\n",
      "\t. lady\n",
      "\t. licorice\n",
      "\n",
      "Flair 'TW':\n",
      "Most correlated unigrams:\n",
      "\t. lbs\n",
      "\t. pregnant\n",
      "\t. tw\n",
      "\t. pounds\n",
      "\t. purge\n"
     ]
    }
   ],
   "source": [
    "# chisq2 statistical test\n",
    "N = 5    # Number of examples to be listed\n",
    "for f, i in sorted(mapping_dict.items()):\n",
    "    chi2_feat = chi2(feat, y == i)\n",
    "    indices = np.argsort(chi2_feat[0])\n",
    "    feat_names = np.array(tfidf.get_feature_names())[indices]\n",
    "    unigrams = [w for w in feat_names if len(w.split(' ')) == 1]\n",
    "    print(\"\\nFlair '{}':\".format(f))\n",
    "    print(\"Most correlated unigrams:\\n\\t. {}\".format('\\n\\t. '.join(unigrams[-N:])))"
   ]
  },
  {
   "cell_type": "markdown",
   "id": "96bccad2",
   "metadata": {
    "papermill": {
     "duration": 0.053067,
     "end_time": "2022-01-02T17:55:39.724651",
     "exception": false,
     "start_time": "2022-01-02T17:55:39.671584",
     "status": "completed"
    },
    "tags": []
   },
   "source": [
    "## to-dos\n",
    "Moving on, I'd like to collect more data (including comments in addition to post titles), and explore other algorithms to refine the model."
   ]
  },
  {
   "cell_type": "code",
   "execution_count": null,
   "id": "4fb1bd4d",
   "metadata": {
    "papermill": {
     "duration": 0.055077,
     "end_time": "2022-01-02T17:55:39.833334",
     "exception": false,
     "start_time": "2022-01-02T17:55:39.778257",
     "status": "completed"
    },
    "tags": []
   },
   "outputs": [],
   "source": []
  }
 ],
 "metadata": {
  "kernelspec": {
   "display_name": "Python 3.9.7 ('venv': venv)",
   "language": "python",
   "name": "python3"
  },
  "language_info": {
   "codemirror_mode": {
    "name": "ipython",
    "version": 3
   },
   "file_extension": ".py",
   "mimetype": "text/x-python",
   "name": "python",
   "nbconvert_exporter": "python",
   "pygments_lexer": "ipython3",
   "version": "3.9.7"
  },
  "papermill": {
   "default_parameters": {},
   "duration": 124.810376,
   "end_time": "2022-01-02T17:55:42.632403",
   "environment_variables": {},
   "exception": null,
   "input_path": "__notebook__.ipynb",
   "output_path": "__notebook__.ipynb",
   "parameters": {},
   "start_time": "2022-01-02T17:53:37.822027",
   "version": "2.3.3"
  },
  "vscode": {
   "interpreter": {
    "hash": "592dff02aedb101b8211647b7ca137c66c9fb9c2b0865ea58414e430688c8cb6"
   }
  }
 },
 "nbformat": 4,
 "nbformat_minor": 5
}
