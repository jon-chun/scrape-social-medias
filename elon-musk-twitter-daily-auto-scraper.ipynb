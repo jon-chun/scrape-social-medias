{
 "cells": [
  {
   "cell_type": "code",
   "execution_count": 1,
   "id": "95cf1392",
   "metadata": {
    "_cell_guid": "b1076dfc-b9ad-4769-8c92-a6c4dae69d19",
    "_uuid": "8f2839f25d086af736a60e9eeb907d3b93b6e0e5",
    "execution": {
     "iopub.execute_input": "2022-10-05T11:10:47.376209Z",
     "iopub.status.busy": "2022-10-05T11:10:47.375710Z",
     "iopub.status.idle": "2022-10-05T11:11:00.291896Z",
     "shell.execute_reply": "2022-10-05T11:11:00.290620Z"
    },
    "papermill": {
     "duration": 12.92759,
     "end_time": "2022-10-05T11:11:00.294874",
     "exception": false,
     "start_time": "2022-10-05T11:10:47.367284",
     "status": "completed"
    },
    "tags": []
   },
   "outputs": [
    {
     "name": "stdout",
     "output_type": "stream",
     "text": [
      "Collecting tweepy\r\n",
      "  Downloading tweepy-4.10.1-py3-none-any.whl (94 kB)\r\n",
      "\u001b[2K     \u001b[90m━━━━━━━━━━━━━━━━━━━━━━━━━━━━━━━━━━━━━━━━\u001b[0m \u001b[32m94.6/94.6 kB\u001b[0m \u001b[31m1.0 MB/s\u001b[0m eta \u001b[36m0:00:00\u001b[0m\r\n",
      "\u001b[?25hRequirement already satisfied: requests<3,>=2.27.0 in /opt/conda/lib/python3.7/site-packages (from tweepy) (2.27.1)\r\n",
      "Requirement already satisfied: oauthlib<4,>=3.2.0 in /opt/conda/lib/python3.7/site-packages (from tweepy) (3.2.0)\r\n",
      "Requirement already satisfied: requests-oauthlib<2,>=1.2.0 in /opt/conda/lib/python3.7/site-packages (from tweepy) (1.3.1)\r\n",
      "Requirement already satisfied: idna<4,>=2.5 in /opt/conda/lib/python3.7/site-packages (from requests<3,>=2.27.0->tweepy) (3.3)\r\n",
      "Requirement already satisfied: charset-normalizer~=2.0.0 in /opt/conda/lib/python3.7/site-packages (from requests<3,>=2.27.0->tweepy) (2.0.12)\r\n",
      "Requirement already satisfied: urllib3<1.27,>=1.21.1 in /opt/conda/lib/python3.7/site-packages (from requests<3,>=2.27.0->tweepy) (1.26.9)\r\n",
      "Requirement already satisfied: certifi>=2017.4.17 in /opt/conda/lib/python3.7/site-packages (from requests<3,>=2.27.0->tweepy) (2022.6.15)\r\n",
      "Installing collected packages: tweepy\r\n",
      "Successfully installed tweepy-4.10.1\r\n",
      "\u001b[33mWARNING: Running pip as the 'root' user can result in broken permissions and conflicting behaviour with the system package manager. It is recommended to use a virtual environment instead: https://pip.pypa.io/warnings/venv\u001b[0m\u001b[33m\r\n",
      "\u001b[0m"
     ]
    }
   ],
   "source": [
    "# ! pip install tweepy"
   ]
  },
  {
   "cell_type": "markdown",
   "id": "fcb90056",
   "metadata": {
    "papermill": {
     "duration": 0.005718,
     "end_time": "2022-10-05T11:11:00.307202",
     "exception": false,
     "start_time": "2022-10-05T11:11:00.301484",
     "status": "completed"
    },
    "tags": []
   },
   "source": [
    "# Imports"
   ]
  },
  {
   "cell_type": "code",
   "execution_count": 1,
   "id": "12d8bf07",
   "metadata": {
    "execution": {
     "iopub.execute_input": "2022-10-05T11:11:00.321017Z",
     "iopub.status.busy": "2022-10-05T11:11:00.320605Z",
     "iopub.status.idle": "2022-10-05T11:11:00.365478Z",
     "shell.execute_reply": "2022-10-05T11:11:00.364307Z"
    },
    "papermill": {
     "duration": 0.054922,
     "end_time": "2022-10-05T11:11:00.368057",
     "exception": false,
     "start_time": "2022-10-05T11:11:00.313135",
     "status": "completed"
    },
    "tags": []
   },
   "outputs": [],
   "source": [
    "import tweepy\n",
    "import pandas as pd"
   ]
  },
  {
   "cell_type": "markdown",
   "id": "72457327",
   "metadata": {
    "papermill": {
     "duration": 0.005668,
     "end_time": "2022-10-05T11:11:00.380108",
     "exception": false,
     "start_time": "2022-10-05T11:11:00.374440",
     "status": "completed"
    },
    "tags": []
   },
   "source": [
    "# Load Bearer Token"
   ]
  },
  {
   "cell_type": "code",
   "execution_count": 4,
   "id": "d1c40850",
   "metadata": {
    "execution": {
     "iopub.execute_input": "2022-10-05T11:11:00.393809Z",
     "iopub.status.busy": "2022-10-05T11:11:00.393405Z",
     "iopub.status.idle": "2022-10-05T11:11:00.674583Z",
     "shell.execute_reply": "2022-10-05T11:11:00.673759Z"
    },
    "papermill": {
     "duration": 0.290973,
     "end_time": "2022-10-05T11:11:00.677208",
     "exception": false,
     "start_time": "2022-10-05T11:11:00.386235",
     "status": "completed"
    },
    "tags": []
   },
   "outputs": [],
   "source": [
    "import config_twitter\n",
    "\n",
    "# from kaggle_secrets import UserSecretsClient\n",
    "# user_secrets = UserSecretsClient()\n",
    "# BEAER_TOKEN = user_secrets.get_secret(\"twitter-bearer-token\")\n",
    "\n",
    "BEARER_TOKEN = config_twitter.BEARER_TOKEN"
   ]
  },
  {
   "cell_type": "markdown",
   "id": "cc1cf6a5",
   "metadata": {
    "papermill": {
     "duration": 0.005777,
     "end_time": "2022-10-05T11:11:00.689021",
     "exception": false,
     "start_time": "2022-10-05T11:11:00.683244",
     "status": "completed"
    },
    "tags": []
   },
   "source": [
    "# Client Set Up"
   ]
  },
  {
   "cell_type": "code",
   "execution_count": 6,
   "id": "6d39ea5f",
   "metadata": {
    "execution": {
     "iopub.execute_input": "2022-10-05T11:11:00.703098Z",
     "iopub.status.busy": "2022-10-05T11:11:00.702392Z",
     "iopub.status.idle": "2022-10-05T11:11:00.707553Z",
     "shell.execute_reply": "2022-10-05T11:11:00.706710Z"
    },
    "papermill": {
     "duration": 0.0149,
     "end_time": "2022-10-05T11:11:00.709836",
     "exception": false,
     "start_time": "2022-10-05T11:11:00.694936",
     "status": "completed"
    },
    "tags": []
   },
   "outputs": [],
   "source": [
    "client = tweepy.Client(bearer_token=BEARER_TOKEN)"
   ]
  },
  {
   "cell_type": "code",
   "execution_count": 7,
   "id": "6fd35fe0",
   "metadata": {
    "execution": {
     "iopub.execute_input": "2022-10-05T11:11:00.724129Z",
     "iopub.status.busy": "2022-10-05T11:11:00.723231Z",
     "iopub.status.idle": "2022-10-05T11:11:00.930156Z",
     "shell.execute_reply": "2022-10-05T11:11:00.929092Z"
    },
    "papermill": {
     "duration": 0.216815,
     "end_time": "2022-10-05T11:11:00.932760",
     "exception": false,
     "start_time": "2022-10-05T11:11:00.715945",
     "status": "completed"
    },
    "tags": []
   },
   "outputs": [],
   "source": [
    "elon = client.get_user(username=\"elonmusk\")"
   ]
  },
  {
   "cell_type": "markdown",
   "id": "4bc72c36",
   "metadata": {
    "papermill": {
     "duration": 0.005839,
     "end_time": "2022-10-05T11:11:00.944767",
     "exception": false,
     "start_time": "2022-10-05T11:11:00.938928",
     "status": "completed"
    },
    "tags": []
   },
   "source": [
    "# Get Tweets Demo"
   ]
  },
  {
   "cell_type": "code",
   "execution_count": 8,
   "id": "94469acb",
   "metadata": {
    "execution": {
     "iopub.execute_input": "2022-10-05T11:11:00.958977Z",
     "iopub.status.busy": "2022-10-05T11:11:00.958305Z",
     "iopub.status.idle": "2022-10-05T11:11:01.097342Z",
     "shell.execute_reply": "2022-10-05T11:11:01.096302Z"
    },
    "papermill": {
     "duration": 0.14921,
     "end_time": "2022-10-05T11:11:01.100031",
     "exception": false,
     "start_time": "2022-10-05T11:11:00.950821",
     "status": "completed"
    },
    "tags": []
   },
   "outputs": [],
   "source": [
    "tweets = client.get_users_tweets(id='44196397',max_results=10,\n",
    "                                 tweet_fields=[\"created_at,conversation_id\"]).data"
   ]
  },
  {
   "cell_type": "code",
   "execution_count": 9,
   "id": "d99bcf95",
   "metadata": {
    "execution": {
     "iopub.execute_input": "2022-10-05T11:11:01.114118Z",
     "iopub.status.busy": "2022-10-05T11:11:01.113719Z",
     "iopub.status.idle": "2022-10-05T11:11:01.119540Z",
     "shell.execute_reply": "2022-10-05T11:11:01.118266Z"
    },
    "papermill": {
     "duration": 0.015329,
     "end_time": "2022-10-05T11:11:01.121749",
     "exception": false,
     "start_time": "2022-10-05T11:11:01.106420",
     "status": "completed"
    },
    "tags": []
   },
   "outputs": [],
   "source": [
    "parsed_tweets = []\n",
    "for tweet in tweets:\n",
    "    parsed_tweets.append([tweet[\"created_at\"],tweet['id'],tweet['text'],tweet['conversation_id']])"
   ]
  },
  {
   "cell_type": "code",
   "execution_count": 10,
   "id": "d60a89c2",
   "metadata": {
    "execution": {
     "iopub.execute_input": "2022-10-05T11:11:01.135416Z",
     "iopub.status.busy": "2022-10-05T11:11:01.135029Z",
     "iopub.status.idle": "2022-10-05T11:11:01.146020Z",
     "shell.execute_reply": "2022-10-05T11:11:01.144885Z"
    },
    "papermill": {
     "duration": 0.020535,
     "end_time": "2022-10-05T11:11:01.148405",
     "exception": false,
     "start_time": "2022-10-05T11:11:01.127870",
     "status": "completed"
    },
    "tags": []
   },
   "outputs": [],
   "source": [
    "df = pd.DataFrame(parsed_tweets)"
   ]
  },
  {
   "cell_type": "code",
   "execution_count": 11,
   "id": "dd66eab2",
   "metadata": {
    "execution": {
     "iopub.execute_input": "2022-10-05T11:11:01.162540Z",
     "iopub.status.busy": "2022-10-05T11:11:01.162146Z",
     "iopub.status.idle": "2022-10-05T11:11:01.184299Z",
     "shell.execute_reply": "2022-10-05T11:11:01.183087Z"
    },
    "papermill": {
     "duration": 0.032209,
     "end_time": "2022-10-05T11:11:01.186734",
     "exception": false,
     "start_time": "2022-10-05T11:11:01.154525",
     "status": "completed"
    },
    "tags": []
   },
   "outputs": [
    {
     "data": {
      "text/html": [
       "<div>\n",
       "<style scoped>\n",
       "    .dataframe tbody tr th:only-of-type {\n",
       "        vertical-align: middle;\n",
       "    }\n",
       "\n",
       "    .dataframe tbody tr th {\n",
       "        vertical-align: top;\n",
       "    }\n",
       "\n",
       "    .dataframe thead th {\n",
       "        text-align: right;\n",
       "    }\n",
       "</style>\n",
       "<table border=\"1\" class=\"dataframe\">\n",
       "  <thead>\n",
       "    <tr style=\"text-align: right;\">\n",
       "      <th></th>\n",
       "      <th>0</th>\n",
       "      <th>1</th>\n",
       "      <th>2</th>\n",
       "      <th>3</th>\n",
       "    </tr>\n",
       "  </thead>\n",
       "  <tbody>\n",
       "    <tr>\n",
       "      <th>0</th>\n",
       "      <td>2022-10-25 23:26:39+00:00</td>\n",
       "      <td>1585050236120027137</td>\n",
       "      <td>Works on any moving land object https://t.co/X...</td>\n",
       "      <td>1585050236120027137</td>\n",
       "    </tr>\n",
       "    <tr>\n",
       "      <th>1</th>\n",
       "      <td>2022-10-25 13:54:37+00:00</td>\n",
       "      <td>1584906280082219009</td>\n",
       "      <td>@chazman @lexfridman Fasting rocks</td>\n",
       "      <td>1584764977457397760</td>\n",
       "    </tr>\n",
       "    <tr>\n",
       "      <th>2</th>\n",
       "      <td>2022-10-25 13:24:27+00:00</td>\n",
       "      <td>1584898685736869888</td>\n",
       "      <td>@VitalikButerin @balajis @zengjiajun_eth Had t...</td>\n",
       "      <td>1584625378253209603</td>\n",
       "    </tr>\n",
       "    <tr>\n",
       "      <th>3</th>\n",
       "      <td>2022-10-25 09:16:17+00:00</td>\n",
       "      <td>1584836233586348033</td>\n",
       "      <td>@dogeofficialceo @DirtyTesLa @rocobasilisk @Sw...</td>\n",
       "      <td>1584626500955144192</td>\n",
       "    </tr>\n",
       "    <tr>\n",
       "      <th>4</th>\n",
       "      <td>2022-10-25 08:30:54+00:00</td>\n",
       "      <td>1584824812345888768</td>\n",
       "      <td>@garyblack00 @SawyerMerritt One man’s hedge is...</td>\n",
       "      <td>1584640964609847296</td>\n",
       "    </tr>\n",
       "  </tbody>\n",
       "</table>\n",
       "</div>"
      ],
      "text/plain": [
       "                          0                    1  \\\n",
       "0 2022-10-25 23:26:39+00:00  1585050236120027137   \n",
       "1 2022-10-25 13:54:37+00:00  1584906280082219009   \n",
       "2 2022-10-25 13:24:27+00:00  1584898685736869888   \n",
       "3 2022-10-25 09:16:17+00:00  1584836233586348033   \n",
       "4 2022-10-25 08:30:54+00:00  1584824812345888768   \n",
       "\n",
       "                                                   2                    3  \n",
       "0  Works on any moving land object https://t.co/X...  1585050236120027137  \n",
       "1                 @chazman @lexfridman Fasting rocks  1584764977457397760  \n",
       "2  @VitalikButerin @balajis @zengjiajun_eth Had t...  1584625378253209603  \n",
       "3  @dogeofficialceo @DirtyTesLa @rocobasilisk @Sw...  1584626500955144192  \n",
       "4  @garyblack00 @SawyerMerritt One man’s hedge is...  1584640964609847296  "
      ]
     },
     "execution_count": 11,
     "metadata": {},
     "output_type": "execute_result"
    }
   ],
   "source": [
    "df.head()"
   ]
  },
  {
   "cell_type": "markdown",
   "id": "3898e2d4",
   "metadata": {
    "papermill": {
     "duration": 0.005888,
     "end_time": "2022-10-05T11:11:01.198929",
     "exception": false,
     "start_time": "2022-10-05T11:11:01.193041",
     "status": "completed"
    },
    "tags": []
   },
   "source": [
    "# Get Tweets and Update CSV"
   ]
  },
  {
   "cell_type": "code",
   "execution_count": 12,
   "id": "235b4aa8",
   "metadata": {
    "execution": {
     "iopub.execute_input": "2022-10-05T11:11:01.213188Z",
     "iopub.status.busy": "2022-10-05T11:11:01.212480Z",
     "iopub.status.idle": "2022-10-05T11:11:10.331974Z",
     "shell.execute_reply": "2022-10-05T11:11:10.330742Z"
    },
    "papermill": {
     "duration": 9.12979,
     "end_time": "2022-10-05T11:11:10.334833",
     "exception": false,
     "start_time": "2022-10-05T11:11:01.205043",
     "status": "completed"
    },
    "tags": []
   },
   "outputs": [],
   "source": [
    "parsed_tweets = []\n",
    "parsed_tweets_only = []\n",
    "for tweet in tweepy.Paginator(client.get_users_tweets, id='44196397',tweet_fields=[\"created_at,conversation_id\"],\n",
    "                                    max_results=100).flatten(limit=3200):\n",
    "    parsed_tweets.append([tweet['id'],tweet[\"created_at\"],tweet['text'],tweet['conversation_id']])\n",
    "    if tweet['id'] == tweet['conversation_id']:\n",
    "        parsed_tweets_only.append([tweet['id'],tweet[\"created_at\"],tweet['text']])"
   ]
  },
  {
   "cell_type": "code",
   "execution_count": 13,
   "id": "c4517e39",
   "metadata": {
    "execution": {
     "iopub.execute_input": "2022-10-05T11:11:10.350425Z",
     "iopub.status.busy": "2022-10-05T11:11:10.349792Z",
     "iopub.status.idle": "2022-10-05T11:11:10.361378Z",
     "shell.execute_reply": "2022-10-05T11:11:10.360134Z"
    },
    "papermill": {
     "duration": 0.022001,
     "end_time": "2022-10-05T11:11:10.363847",
     "exception": false,
     "start_time": "2022-10-05T11:11:10.341846",
     "status": "completed"
    },
    "tags": []
   },
   "outputs": [],
   "source": [
    "tweets_and_replies_df = pd.DataFrame(parsed_tweets)\n",
    "tweets_df = pd.DataFrame(parsed_tweets_only)"
   ]
  },
  {
   "cell_type": "code",
   "execution_count": 14,
   "id": "8acd1769",
   "metadata": {
    "execution": {
     "iopub.execute_input": "2022-10-05T11:11:10.378999Z",
     "iopub.status.busy": "2022-10-05T11:11:10.378356Z",
     "iopub.status.idle": "2022-10-05T11:11:10.389389Z",
     "shell.execute_reply": "2022-10-05T11:11:10.388269Z"
    },
    "papermill": {
     "duration": 0.021082,
     "end_time": "2022-10-05T11:11:10.391779",
     "exception": false,
     "start_time": "2022-10-05T11:11:10.370697",
     "status": "completed"
    },
    "tags": []
   },
   "outputs": [
    {
     "data": {
      "text/html": [
       "<div>\n",
       "<style scoped>\n",
       "    .dataframe tbody tr th:only-of-type {\n",
       "        vertical-align: middle;\n",
       "    }\n",
       "\n",
       "    .dataframe tbody tr th {\n",
       "        vertical-align: top;\n",
       "    }\n",
       "\n",
       "    .dataframe thead th {\n",
       "        text-align: right;\n",
       "    }\n",
       "</style>\n",
       "<table border=\"1\" class=\"dataframe\">\n",
       "  <thead>\n",
       "    <tr style=\"text-align: right;\">\n",
       "      <th></th>\n",
       "      <th>0</th>\n",
       "      <th>1</th>\n",
       "      <th>2</th>\n",
       "    </tr>\n",
       "  </thead>\n",
       "  <tbody>\n",
       "    <tr>\n",
       "      <th>0</th>\n",
       "      <td>1585050236120027137</td>\n",
       "      <td>2022-10-25 23:26:39+00:00</td>\n",
       "      <td>Works on any moving land object https://t.co/X...</td>\n",
       "    </tr>\n",
       "    <tr>\n",
       "      <th>1</th>\n",
       "      <td>1584764977457397760</td>\n",
       "      <td>2022-10-25 04:33:08+00:00</td>\n",
       "      <td>What lesson took you the longest to unlearn?</td>\n",
       "    </tr>\n",
       "    <tr>\n",
       "      <th>2</th>\n",
       "      <td>1584717774261489665</td>\n",
       "      <td>2022-10-25 01:25:34+00:00</td>\n",
       "      <td>διαλεκτική</td>\n",
       "    </tr>\n",
       "    <tr>\n",
       "      <th>3</th>\n",
       "      <td>1584608031777902593</td>\n",
       "      <td>2022-10-24 18:09:30+00:00</td>\n",
       "      <td>RT @SpaceX: Starlink is now available in Jamai...</td>\n",
       "    </tr>\n",
       "    <tr>\n",
       "      <th>4</th>\n",
       "      <td>1584319362294775808</td>\n",
       "      <td>2022-10-23 23:02:25+00:00</td>\n",
       "      <td>RT @SpaceX: Falcon Heavy in the hangar at Laun...</td>\n",
       "    </tr>\n",
       "  </tbody>\n",
       "</table>\n",
       "</div>"
      ],
      "text/plain": [
       "                     0                         1  \\\n",
       "0  1585050236120027137 2022-10-25 23:26:39+00:00   \n",
       "1  1584764977457397760 2022-10-25 04:33:08+00:00   \n",
       "2  1584717774261489665 2022-10-25 01:25:34+00:00   \n",
       "3  1584608031777902593 2022-10-24 18:09:30+00:00   \n",
       "4  1584319362294775808 2022-10-23 23:02:25+00:00   \n",
       "\n",
       "                                                   2  \n",
       "0  Works on any moving land object https://t.co/X...  \n",
       "1       What lesson took you the longest to unlearn?  \n",
       "2                                         διαλεκτική  \n",
       "3  RT @SpaceX: Starlink is now available in Jamai...  \n",
       "4  RT @SpaceX: Falcon Heavy in the hangar at Laun...  "
      ]
     },
     "execution_count": 14,
     "metadata": {},
     "output_type": "execute_result"
    }
   ],
   "source": [
    "tweets_df.head()"
   ]
  },
  {
   "cell_type": "code",
   "execution_count": 15,
   "id": "a2dff0cc",
   "metadata": {},
   "outputs": [
    {
     "name": "stdout",
     "output_type": "stream",
     "text": [
      "<class 'pandas.core.frame.DataFrame'>\n",
      "RangeIndex: 638 entries, 0 to 637\n",
      "Data columns (total 3 columns):\n",
      " #   Column  Non-Null Count  Dtype              \n",
      "---  ------  --------------  -----              \n",
      " 0   0       638 non-null    int64              \n",
      " 1   1       638 non-null    datetime64[ns, UTC]\n",
      " 2   2       638 non-null    object             \n",
      "dtypes: datetime64[ns, UTC](1), int64(1), object(1)\n",
      "memory usage: 15.1+ KB\n"
     ]
    }
   ],
   "source": [
    "tweets_df.info()"
   ]
  },
  {
   "cell_type": "markdown",
   "id": "14bd126a",
   "metadata": {
    "papermill": {
     "duration": 0.00636,
     "end_time": "2022-10-05T11:11:10.404671",
     "exception": false,
     "start_time": "2022-10-05T11:11:10.398311",
     "status": "completed"
    },
    "tags": []
   },
   "source": [
    "### Get Last Saved Tweets"
   ]
  },
  {
   "cell_type": "code",
   "execution_count": 13,
   "id": "5d6555d6",
   "metadata": {
    "execution": {
     "iopub.execute_input": "2022-10-05T11:11:10.419625Z",
     "iopub.status.busy": "2022-10-05T11:11:10.419010Z",
     "iopub.status.idle": "2022-10-05T11:11:10.489697Z",
     "shell.execute_reply": "2022-10-05T11:11:10.488856Z"
    },
    "papermill": {
     "duration": 0.081484,
     "end_time": "2022-10-05T11:11:10.492579",
     "exception": false,
     "start_time": "2022-10-05T11:11:10.411095",
     "status": "completed"
    },
    "tags": []
   },
   "outputs": [],
   "source": [
    "old_tweets_and_replies_df = pd.read_csv(\"../input/elon-musk-tweets-dataset/tweets_and_replies.csv\", skiprows = 1, header = None)\n",
    "old_tweets_df = pd.read_csv(\"../input/elon-musk-tweets-dataset/tweets.csv\",skiprows = 1, header = None)"
   ]
  },
  {
   "cell_type": "code",
   "execution_count": 14,
   "id": "9c8c1d9d",
   "metadata": {
    "execution": {
     "iopub.execute_input": "2022-10-05T11:11:10.508468Z",
     "iopub.status.busy": "2022-10-05T11:11:10.507842Z",
     "iopub.status.idle": "2022-10-05T11:11:10.525405Z",
     "shell.execute_reply": "2022-10-05T11:11:10.524182Z"
    },
    "papermill": {
     "duration": 0.028176,
     "end_time": "2022-10-05T11:11:10.527901",
     "exception": false,
     "start_time": "2022-10-05T11:11:10.499725",
     "status": "completed"
    },
    "tags": []
   },
   "outputs": [
    {
     "data": {
      "text/html": [
       "<div>\n",
       "<style scoped>\n",
       "    .dataframe tbody tr th:only-of-type {\n",
       "        vertical-align: middle;\n",
       "    }\n",
       "\n",
       "    .dataframe tbody tr th {\n",
       "        vertical-align: top;\n",
       "    }\n",
       "\n",
       "    .dataframe thead th {\n",
       "        text-align: right;\n",
       "    }\n",
       "</style>\n",
       "<table border=\"1\" class=\"dataframe\">\n",
       "  <thead>\n",
       "    <tr style=\"text-align: right;\">\n",
       "      <th></th>\n",
       "      <th>0</th>\n",
       "      <th>1</th>\n",
       "      <th>2</th>\n",
       "    </tr>\n",
       "  </thead>\n",
       "  <tbody>\n",
       "    <tr>\n",
       "      <th>0</th>\n",
       "      <td>1577075264592351233</td>\n",
       "      <td>2022-10-03 23:16:58+00:00</td>\n",
       "      <td>RT @Tesla: The brain of your Tesla: Neural net...</td>\n",
       "    </tr>\n",
       "    <tr>\n",
       "      <th>1</th>\n",
       "      <td>1576994262226702336</td>\n",
       "      <td>2022-10-03 17:55:05+00:00</td>\n",
       "      <td>Let’s try this then: the will of the people wh...</td>\n",
       "    </tr>\n",
       "    <tr>\n",
       "      <th>2</th>\n",
       "      <td>1576976609348681738</td>\n",
       "      <td>2022-10-03 16:44:57+00:00</td>\n",
       "      <td>Please vote in this poll! ⬇️⬇️⬇️⬇️</td>\n",
       "    </tr>\n",
       "    <tr>\n",
       "      <th>3</th>\n",
       "      <td>1576969255031296000</td>\n",
       "      <td>2022-10-03 16:15:43+00:00</td>\n",
       "      <td>Ukraine-Russia Peace:\\n\\n- Redo elections of a...</td>\n",
       "    </tr>\n",
       "    <tr>\n",
       "      <th>4</th>\n",
       "      <td>1576840676284960769</td>\n",
       "      <td>2022-10-03 07:44:48+00:00</td>\n",
       "      <td>https://t.co/cGHSTdb9gv</td>\n",
       "    </tr>\n",
       "  </tbody>\n",
       "</table>\n",
       "</div>"
      ],
      "text/plain": [
       "                     0                          1  \\\n",
       "0  1577075264592351233  2022-10-03 23:16:58+00:00   \n",
       "1  1576994262226702336  2022-10-03 17:55:05+00:00   \n",
       "2  1576976609348681738  2022-10-03 16:44:57+00:00   \n",
       "3  1576969255031296000  2022-10-03 16:15:43+00:00   \n",
       "4  1576840676284960769  2022-10-03 07:44:48+00:00   \n",
       "\n",
       "                                                   2  \n",
       "0  RT @Tesla: The brain of your Tesla: Neural net...  \n",
       "1  Let’s try this then: the will of the people wh...  \n",
       "2                 Please vote in this poll! ⬇️⬇️⬇️⬇️  \n",
       "3  Ukraine-Russia Peace:\\n\\n- Redo elections of a...  \n",
       "4                            https://t.co/cGHSTdb9gv  "
      ]
     },
     "execution_count": 14,
     "metadata": {},
     "output_type": "execute_result"
    }
   ],
   "source": [
    "old_tweets_df.head()"
   ]
  },
  {
   "cell_type": "markdown",
   "id": "d81dec12",
   "metadata": {
    "papermill": {
     "duration": 0.006395,
     "end_time": "2022-10-05T11:11:10.541137",
     "exception": false,
     "start_time": "2022-10-05T11:11:10.534742",
     "status": "completed"
    },
    "tags": []
   },
   "source": [
    "### Merge Tweets"
   ]
  },
  {
   "cell_type": "code",
   "execution_count": 15,
   "id": "962745dc",
   "metadata": {
    "execution": {
     "iopub.execute_input": "2022-10-05T11:11:10.556174Z",
     "iopub.status.busy": "2022-10-05T11:11:10.555754Z",
     "iopub.status.idle": "2022-10-05T11:11:10.600487Z",
     "shell.execute_reply": "2022-10-05T11:11:10.599406Z"
    },
    "papermill": {
     "duration": 0.055209,
     "end_time": "2022-10-05T11:11:10.603052",
     "exception": false,
     "start_time": "2022-10-05T11:11:10.547843",
     "status": "completed"
    },
    "tags": []
   },
   "outputs": [],
   "source": [
    "new_tweets = pd.concat([tweets_df,old_tweets_df]).drop_duplicates()\n",
    "new_tweets_and_replies = pd.concat([tweets_and_replies_df,old_tweets_and_replies_df]).drop_duplicates()"
   ]
  },
  {
   "cell_type": "code",
   "execution_count": 16,
   "id": "fbeca08b",
   "metadata": {
    "execution": {
     "iopub.execute_input": "2022-10-05T11:11:10.618869Z",
     "iopub.status.busy": "2022-10-05T11:11:10.618032Z",
     "iopub.status.idle": "2022-10-05T11:11:10.679215Z",
     "shell.execute_reply": "2022-10-05T11:11:10.678115Z"
    },
    "papermill": {
     "duration": 0.072299,
     "end_time": "2022-10-05T11:11:10.682111",
     "exception": false,
     "start_time": "2022-10-05T11:11:10.609812",
     "status": "completed"
    },
    "tags": []
   },
   "outputs": [],
   "source": [
    "new_tweets.to_csv(\"tweets.csv\", header=[\"Id\", \"Date\", \"Text\"], index=False)\n",
    "new_tweets_and_replies.to_csv(\"tweets_and_replies.csv\", header=[\"Id\", \"Date\", \"Text\", \"ConversationId\"], index=False)"
   ]
  },
  {
   "cell_type": "code",
   "execution_count": 17,
   "id": "137c773a",
   "metadata": {
    "execution": {
     "iopub.execute_input": "2022-10-05T11:11:10.699804Z",
     "iopub.status.busy": "2022-10-05T11:11:10.699379Z",
     "iopub.status.idle": "2022-10-05T11:11:10.710717Z",
     "shell.execute_reply": "2022-10-05T11:11:10.709527Z"
    },
    "papermill": {
     "duration": 0.022378,
     "end_time": "2022-10-05T11:11:10.713238",
     "exception": false,
     "start_time": "2022-10-05T11:11:10.690860",
     "status": "completed"
    },
    "tags": []
   },
   "outputs": [
    {
     "data": {
      "text/html": [
       "<div>\n",
       "<style scoped>\n",
       "    .dataframe tbody tr th:only-of-type {\n",
       "        vertical-align: middle;\n",
       "    }\n",
       "\n",
       "    .dataframe tbody tr th {\n",
       "        vertical-align: top;\n",
       "    }\n",
       "\n",
       "    .dataframe thead th {\n",
       "        text-align: right;\n",
       "    }\n",
       "</style>\n",
       "<table border=\"1\" class=\"dataframe\">\n",
       "  <thead>\n",
       "    <tr style=\"text-align: right;\">\n",
       "      <th></th>\n",
       "      <th>0</th>\n",
       "      <th>1</th>\n",
       "      <th>2</th>\n",
       "    </tr>\n",
       "  </thead>\n",
       "  <tbody>\n",
       "    <tr>\n",
       "      <th>0</th>\n",
       "      <td>1577428272056389633</td>\n",
       "      <td>2022-10-04 22:39:41+00:00</td>\n",
       "      <td>Buying Twitter is an accelerant to creating X,...</td>\n",
       "    </tr>\n",
       "    <tr>\n",
       "      <th>1</th>\n",
       "      <td>1577075264592351233</td>\n",
       "      <td>2022-10-03 23:16:58+00:00</td>\n",
       "      <td>RT @Tesla: The brain of your Tesla: Neural net...</td>\n",
       "    </tr>\n",
       "    <tr>\n",
       "      <th>2</th>\n",
       "      <td>1576994262226702336</td>\n",
       "      <td>2022-10-03 17:55:05+00:00</td>\n",
       "      <td>Let’s try this then: the will of the people wh...</td>\n",
       "    </tr>\n",
       "    <tr>\n",
       "      <th>3</th>\n",
       "      <td>1576969255031296000</td>\n",
       "      <td>2022-10-03 16:15:43+00:00</td>\n",
       "      <td>Ukraine-Russia Peace:\\n\\n- Redo elections of a...</td>\n",
       "    </tr>\n",
       "    <tr>\n",
       "      <th>4</th>\n",
       "      <td>1576840676284960769</td>\n",
       "      <td>2022-10-03 07:44:48+00:00</td>\n",
       "      <td>https://t.co/cGHSTdb9gv</td>\n",
       "    </tr>\n",
       "  </tbody>\n",
       "</table>\n",
       "</div>"
      ],
      "text/plain": [
       "                     0                          1  \\\n",
       "0  1577428272056389633  2022-10-04 22:39:41+00:00   \n",
       "1  1577075264592351233  2022-10-03 23:16:58+00:00   \n",
       "2  1576994262226702336  2022-10-03 17:55:05+00:00   \n",
       "3  1576969255031296000  2022-10-03 16:15:43+00:00   \n",
       "4  1576840676284960769  2022-10-03 07:44:48+00:00   \n",
       "\n",
       "                                                   2  \n",
       "0  Buying Twitter is an accelerant to creating X,...  \n",
       "1  RT @Tesla: The brain of your Tesla: Neural net...  \n",
       "2  Let’s try this then: the will of the people wh...  \n",
       "3  Ukraine-Russia Peace:\\n\\n- Redo elections of a...  \n",
       "4                            https://t.co/cGHSTdb9gv  "
      ]
     },
     "execution_count": 17,
     "metadata": {},
     "output_type": "execute_result"
    }
   ],
   "source": [
    "new_tweets.head()"
   ]
  }
 ],
 "metadata": {
  "kernelspec": {
   "display_name": "Python 3.9.7 ('venv': venv)",
   "language": "python",
   "name": "python3"
  },
  "language_info": {
   "codemirror_mode": {
    "name": "ipython",
    "version": 3
   },
   "file_extension": ".py",
   "mimetype": "text/x-python",
   "name": "python",
   "nbconvert_exporter": "python",
   "pygments_lexer": "ipython3",
   "version": "3.9.7"
  },
  "papermill": {
   "default_parameters": {},
   "duration": 33.873208,
   "end_time": "2022-10-05T11:11:11.442171",
   "environment_variables": {},
   "exception": null,
   "input_path": "__notebook__.ipynb",
   "output_path": "__notebook__.ipynb",
   "parameters": {},
   "start_time": "2022-10-05T11:10:37.568963",
   "version": "2.3.4"
  },
  "vscode": {
   "interpreter": {
    "hash": "592dff02aedb101b8211647b7ca137c66c9fb9c2b0865ea58414e430688c8cb6"
   }
  }
 },
 "nbformat": 4,
 "nbformat_minor": 5
}
