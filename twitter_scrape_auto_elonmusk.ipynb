{
 "cells": [
  {
   "cell_type": "code",
   "execution_count": 1,
   "id": "55584698",
   "metadata": {
    "_cell_guid": "b1076dfc-b9ad-4769-8c92-a6c4dae69d19",
    "_uuid": "8f2839f25d086af736a60e9eeb907d3b93b6e0e5",
    "execution": {
     "iopub.execute_input": "2022-10-29T11:11:46.026290Z",
     "iopub.status.busy": "2022-10-29T11:11:46.025769Z",
     "iopub.status.idle": "2022-10-29T11:11:55.689145Z",
     "shell.execute_reply": "2022-10-29T11:11:55.688178Z"
    },
    "papermill": {
     "duration": 9.67253,
     "end_time": "2022-10-29T11:11:55.691555",
     "exception": false,
     "start_time": "2022-10-29T11:11:46.019025",
     "status": "completed"
    },
    "tags": []
   },
   "outputs": [
    {
     "name": "stdout",
     "output_type": "stream",
     "text": [
      "Collecting tweepy\r\n",
      "  Downloading tweepy-4.12.0-py3-none-any.whl (101 kB)\r\n",
      "\u001b[2K     \u001b[90m━━━━━━━━━━━━━━━━━━━━━━━━━━━━━━━━━━━━━\u001b[0m \u001b[32m101.2/101.2 kB\u001b[0m \u001b[31m701.9 kB/s\u001b[0m eta \u001b[36m0:00:00\u001b[0m\r\n",
      "\u001b[?25hRequirement already satisfied: requests<3,>=2.27.0 in /opt/conda/lib/python3.7/site-packages (from tweepy) (2.27.1)\r\n",
      "Requirement already satisfied: oauthlib<4,>=3.2.0 in /opt/conda/lib/python3.7/site-packages (from tweepy) (3.2.0)\r\n",
      "Requirement already satisfied: requests-oauthlib<2,>=1.2.0 in /opt/conda/lib/python3.7/site-packages (from tweepy) (1.3.1)\r\n",
      "Requirement already satisfied: charset-normalizer~=2.0.0 in /opt/conda/lib/python3.7/site-packages (from requests<3,>=2.27.0->tweepy) (2.0.12)\r\n",
      "Requirement already satisfied: certifi>=2017.4.17 in /opt/conda/lib/python3.7/site-packages (from requests<3,>=2.27.0->tweepy) (2022.6.15)\r\n",
      "Requirement already satisfied: urllib3<1.27,>=1.21.1 in /opt/conda/lib/python3.7/site-packages (from requests<3,>=2.27.0->tweepy) (1.26.9)\r\n",
      "Requirement already satisfied: idna<4,>=2.5 in /opt/conda/lib/python3.7/site-packages (from requests<3,>=2.27.0->tweepy) (3.3)\r\n",
      "Installing collected packages: tweepy\r\n",
      "Successfully installed tweepy-4.12.0\r\n",
      "\u001b[33mWARNING: Running pip as the 'root' user can result in broken permissions and conflicting behaviour with the system package manager. It is recommended to use a virtual environment instead: https://pip.pypa.io/warnings/venv\u001b[0m\u001b[33m\r\n",
      "\u001b[0m"
     ]
    }
   ],
   "source": [
    "! pip install tweepy"
   ]
  },
  {
   "cell_type": "markdown",
   "id": "62959e89",
   "metadata": {
    "papermill": {
     "duration": 0.004857,
     "end_time": "2022-10-29T11:11:55.701890",
     "exception": false,
     "start_time": "2022-10-29T11:11:55.697033",
     "status": "completed"
    },
    "tags": []
   },
   "source": [
    "# Imports"
   ]
  },
  {
   "cell_type": "code",
   "execution_count": 2,
   "id": "62c22d29",
   "metadata": {
    "execution": {
     "iopub.execute_input": "2022-10-29T11:11:55.712991Z",
     "iopub.status.busy": "2022-10-29T11:11:55.712723Z",
     "iopub.status.idle": "2022-10-29T11:11:55.741825Z",
     "shell.execute_reply": "2022-10-29T11:11:55.741109Z"
    },
    "papermill": {
     "duration": 0.036708,
     "end_time": "2022-10-29T11:11:55.743511",
     "exception": false,
     "start_time": "2022-10-29T11:11:55.706803",
     "status": "completed"
    },
    "tags": []
   },
   "outputs": [],
   "source": [
    "import tweepy\n",
    "import pandas as pd"
   ]
  },
  {
   "cell_type": "markdown",
   "id": "140a00cb",
   "metadata": {
    "papermill": {
     "duration": 0.004736,
     "end_time": "2022-10-29T11:11:55.753366",
     "exception": false,
     "start_time": "2022-10-29T11:11:55.748630",
     "status": "completed"
    },
    "tags": []
   },
   "source": [
    "# Load Bearer Token"
   ]
  },
  {
   "cell_type": "code",
   "execution_count": 3,
   "id": "c3876a56",
   "metadata": {
    "execution": {
     "iopub.execute_input": "2022-10-29T11:11:55.764516Z",
     "iopub.status.busy": "2022-10-29T11:11:55.764268Z",
     "iopub.status.idle": "2022-10-29T11:11:56.073102Z",
     "shell.execute_reply": "2022-10-29T11:11:56.072489Z"
    },
    "papermill": {
     "duration": 0.316686,
     "end_time": "2022-10-29T11:11:56.075035",
     "exception": false,
     "start_time": "2022-10-29T11:11:55.758349",
     "status": "completed"
    },
    "tags": []
   },
   "outputs": [],
   "source": [
    "from kaggle_secrets import UserSecretsClient\n",
    "user_secrets = UserSecretsClient()\n",
    "BEAER_TOKEN = user_secrets.get_secret(\"twitter-bearer-token\")"
   ]
  },
  {
   "cell_type": "markdown",
   "id": "0937075c",
   "metadata": {
    "papermill": {
     "duration": 0.005002,
     "end_time": "2022-10-29T11:11:56.085226",
     "exception": false,
     "start_time": "2022-10-29T11:11:56.080224",
     "status": "completed"
    },
    "tags": []
   },
   "source": [
    "# Client Set Up"
   ]
  },
  {
   "cell_type": "code",
   "execution_count": 4,
   "id": "677f872d",
   "metadata": {
    "execution": {
     "iopub.execute_input": "2022-10-29T11:11:56.096482Z",
     "iopub.status.busy": "2022-10-29T11:11:56.095888Z",
     "iopub.status.idle": "2022-10-29T11:11:56.099404Z",
     "shell.execute_reply": "2022-10-29T11:11:56.098906Z"
    },
    "papermill": {
     "duration": 0.010658,
     "end_time": "2022-10-29T11:11:56.100819",
     "exception": false,
     "start_time": "2022-10-29T11:11:56.090161",
     "status": "completed"
    },
    "tags": []
   },
   "outputs": [],
   "source": [
    "client = tweepy.Client(bearer_token=BEAER_TOKEN)"
   ]
  },
  {
   "cell_type": "code",
   "execution_count": 5,
   "id": "4e9323d7",
   "metadata": {
    "execution": {
     "iopub.execute_input": "2022-10-29T11:11:56.111672Z",
     "iopub.status.busy": "2022-10-29T11:11:56.111367Z",
     "iopub.status.idle": "2022-10-29T11:11:56.390254Z",
     "shell.execute_reply": "2022-10-29T11:11:56.389498Z"
    },
    "papermill": {
     "duration": 0.286482,
     "end_time": "2022-10-29T11:11:56.392237",
     "exception": false,
     "start_time": "2022-10-29T11:11:56.105755",
     "status": "completed"
    },
    "tags": []
   },
   "outputs": [],
   "source": [
    "elon = client.get_user(username=\"elonmusk\")"
   ]
  },
  {
   "cell_type": "markdown",
   "id": "4e297463",
   "metadata": {
    "papermill": {
     "duration": 0.004842,
     "end_time": "2022-10-29T11:11:56.402369",
     "exception": false,
     "start_time": "2022-10-29T11:11:56.397527",
     "status": "completed"
    },
    "tags": []
   },
   "source": [
    "# Get Tweets Demo"
   ]
  },
  {
   "cell_type": "code",
   "execution_count": 6,
   "id": "6b77f8f1",
   "metadata": {
    "execution": {
     "iopub.execute_input": "2022-10-29T11:11:56.413345Z",
     "iopub.status.busy": "2022-10-29T11:11:56.412929Z",
     "iopub.status.idle": "2022-10-29T11:11:56.643242Z",
     "shell.execute_reply": "2022-10-29T11:11:56.642533Z"
    },
    "papermill": {
     "duration": 0.237855,
     "end_time": "2022-10-29T11:11:56.645109",
     "exception": false,
     "start_time": "2022-10-29T11:11:56.407254",
     "status": "completed"
    },
    "tags": []
   },
   "outputs": [],
   "source": [
    "tweets = client.get_users_tweets(id='44196397',tweet_fields=[\"created_at,conversation_id\"]).data"
   ]
  },
  {
   "cell_type": "code",
   "execution_count": 7,
   "id": "2a391a72",
   "metadata": {
    "execution": {
     "iopub.execute_input": "2022-10-29T11:11:56.656437Z",
     "iopub.status.busy": "2022-10-29T11:11:56.656171Z",
     "iopub.status.idle": "2022-10-29T11:11:56.660221Z",
     "shell.execute_reply": "2022-10-29T11:11:56.659564Z"
    },
    "papermill": {
     "duration": 0.011326,
     "end_time": "2022-10-29T11:11:56.661682",
     "exception": false,
     "start_time": "2022-10-29T11:11:56.650356",
     "status": "completed"
    },
    "tags": []
   },
   "outputs": [],
   "source": [
    "parsed_tweets = []\n",
    "for tweet in tweets:\n",
    "    parsed_tweets.append([tweet[\"created_at\"],tweet['id'],tweet['text'],tweet['conversation_id']])"
   ]
  },
  {
   "cell_type": "code",
   "execution_count": 8,
   "id": "0b527749",
   "metadata": {
    "execution": {
     "iopub.execute_input": "2022-10-29T11:11:56.672920Z",
     "iopub.status.busy": "2022-10-29T11:11:56.672248Z",
     "iopub.status.idle": "2022-10-29T11:11:56.679852Z",
     "shell.execute_reply": "2022-10-29T11:11:56.679280Z"
    },
    "papermill": {
     "duration": 0.014963,
     "end_time": "2022-10-29T11:11:56.681547",
     "exception": false,
     "start_time": "2022-10-29T11:11:56.666584",
     "status": "completed"
    },
    "tags": []
   },
   "outputs": [],
   "source": [
    "df = pd.DataFrame(parsed_tweets)"
   ]
  },
  {
   "cell_type": "code",
   "execution_count": 9,
   "id": "1e605cf9",
   "metadata": {
    "execution": {
     "iopub.execute_input": "2022-10-29T11:11:56.692879Z",
     "iopub.status.busy": "2022-10-29T11:11:56.692258Z",
     "iopub.status.idle": "2022-10-29T11:11:56.707480Z",
     "shell.execute_reply": "2022-10-29T11:11:56.706725Z"
    },
    "papermill": {
     "duration": 0.022664,
     "end_time": "2022-10-29T11:11:56.709109",
     "exception": false,
     "start_time": "2022-10-29T11:11:56.686445",
     "status": "completed"
    },
    "tags": []
   },
   "outputs": [
    {
     "data": {
      "text/html": [
       "<div>\n",
       "<style scoped>\n",
       "    .dataframe tbody tr th:only-of-type {\n",
       "        vertical-align: middle;\n",
       "    }\n",
       "\n",
       "    .dataframe tbody tr th {\n",
       "        vertical-align: top;\n",
       "    }\n",
       "\n",
       "    .dataframe thead th {\n",
       "        text-align: right;\n",
       "    }\n",
       "</style>\n",
       "<table border=\"1\" class=\"dataframe\">\n",
       "  <thead>\n",
       "    <tr style=\"text-align: right;\">\n",
       "      <th></th>\n",
       "      <th>0</th>\n",
       "      <th>1</th>\n",
       "      <th>2</th>\n",
       "      <th>3</th>\n",
       "    </tr>\n",
       "  </thead>\n",
       "  <tbody>\n",
       "    <tr>\n",
       "      <th>0</th>\n",
       "      <td>2022-10-29 07:08:42+00:00</td>\n",
       "      <td>1586253675583852544</td>\n",
       "      <td>@amasad Good point. \\n\\nBeing able to select w...</td>\n",
       "      <td>1586078936143867904</td>\n",
       "    </tr>\n",
       "    <tr>\n",
       "      <th>1</th>\n",
       "      <td>2022-10-29 06:10:15+00:00</td>\n",
       "      <td>1586238966788857856</td>\n",
       "      <td>@BillyM2k 🎯</td>\n",
       "      <td>1586125659499216896</td>\n",
       "    </tr>\n",
       "    <tr>\n",
       "      <th>2</th>\n",
       "      <td>2022-10-29 04:34:43+00:00</td>\n",
       "      <td>1586214927605256192</td>\n",
       "      <td>@WholeMarsBlog One of the best trolls ever 🤣🤣</td>\n",
       "      <td>1586122703013965824</td>\n",
       "    </tr>\n",
       "    <tr>\n",
       "      <th>3</th>\n",
       "      <td>2022-10-29 02:19:54+00:00</td>\n",
       "      <td>1586180999364284416</td>\n",
       "      <td>@cosminDZS Something like this makes sense</td>\n",
       "      <td>1586169121913573377</td>\n",
       "    </tr>\n",
       "    <tr>\n",
       "      <th>4</th>\n",
       "      <td>2022-10-29 00:21:49+00:00</td>\n",
       "      <td>1586151281571246086</td>\n",
       "      <td>@greg16676935420 Ace reporting by @cnbc 🤣🤣</td>\n",
       "      <td>1586088462788206592</td>\n",
       "    </tr>\n",
       "  </tbody>\n",
       "</table>\n",
       "</div>"
      ],
      "text/plain": [
       "                          0                    1  \\\n",
       "0 2022-10-29 07:08:42+00:00  1586253675583852544   \n",
       "1 2022-10-29 06:10:15+00:00  1586238966788857856   \n",
       "2 2022-10-29 04:34:43+00:00  1586214927605256192   \n",
       "3 2022-10-29 02:19:54+00:00  1586180999364284416   \n",
       "4 2022-10-29 00:21:49+00:00  1586151281571246086   \n",
       "\n",
       "                                                   2                    3  \n",
       "0  @amasad Good point. \\n\\nBeing able to select w...  1586078936143867904  \n",
       "1                                        @BillyM2k 🎯  1586125659499216896  \n",
       "2      @WholeMarsBlog One of the best trolls ever 🤣🤣  1586122703013965824  \n",
       "3         @cosminDZS Something like this makes sense  1586169121913573377  \n",
       "4         @greg16676935420 Ace reporting by @cnbc 🤣🤣  1586088462788206592  "
      ]
     },
     "execution_count": 9,
     "metadata": {},
     "output_type": "execute_result"
    }
   ],
   "source": [
    "df.head()"
   ]
  },
  {
   "cell_type": "markdown",
   "id": "8744b3c1",
   "metadata": {
    "papermill": {
     "duration": 0.00499,
     "end_time": "2022-10-29T11:11:56.719365",
     "exception": false,
     "start_time": "2022-10-29T11:11:56.714375",
     "status": "completed"
    },
    "tags": []
   },
   "source": [
    "# Get Tweets and Update CSV"
   ]
  },
  {
   "cell_type": "code",
   "execution_count": 10,
   "id": "ad310849",
   "metadata": {
    "execution": {
     "iopub.execute_input": "2022-10-29T11:11:56.730720Z",
     "iopub.status.busy": "2022-10-29T11:11:56.730458Z",
     "iopub.status.idle": "2022-10-29T11:12:09.035493Z",
     "shell.execute_reply": "2022-10-29T11:12:09.034652Z"
    },
    "papermill": {
     "duration": 12.312975,
     "end_time": "2022-10-29T11:12:09.037507",
     "exception": false,
     "start_time": "2022-10-29T11:11:56.724532",
     "status": "completed"
    },
    "tags": []
   },
   "outputs": [],
   "source": [
    "parsed_tweets = []\n",
    "parsed_tweets_only = []\n",
    "for tweet in tweepy.Paginator(client.get_users_tweets, id='44196397',tweet_fields=[\"created_at,conversation_id\"],\n",
    "                                    max_results=100).flatten(limit=3200):\n",
    "    parsed_tweets.append([tweet['id'],tweet[\"created_at\"],tweet['text'],tweet['conversation_id']])\n",
    "    if tweet['id'] == tweet['conversation_id']:\n",
    "        parsed_tweets_only.append([tweet['id'],tweet[\"created_at\"],tweet['text']])"
   ]
  },
  {
   "cell_type": "code",
   "execution_count": 11,
   "id": "156f95c2",
   "metadata": {
    "execution": {
     "iopub.execute_input": "2022-10-29T11:12:09.049930Z",
     "iopub.status.busy": "2022-10-29T11:12:09.049211Z",
     "iopub.status.idle": "2022-10-29T11:12:09.057715Z",
     "shell.execute_reply": "2022-10-29T11:12:09.057079Z"
    },
    "papermill": {
     "duration": 0.016038,
     "end_time": "2022-10-29T11:12:09.059391",
     "exception": false,
     "start_time": "2022-10-29T11:12:09.043353",
     "status": "completed"
    },
    "tags": []
   },
   "outputs": [],
   "source": [
    "tweets_and_replies_df = pd.DataFrame(parsed_tweets)\n",
    "tweets_df = pd.DataFrame(parsed_tweets_only)"
   ]
  },
  {
   "cell_type": "code",
   "execution_count": 12,
   "id": "117b764f",
   "metadata": {
    "execution": {
     "iopub.execute_input": "2022-10-29T11:12:09.070711Z",
     "iopub.status.busy": "2022-10-29T11:12:09.070452Z",
     "iopub.status.idle": "2022-10-29T11:12:09.077689Z",
     "shell.execute_reply": "2022-10-29T11:12:09.077121Z"
    },
    "papermill": {
     "duration": 0.014595,
     "end_time": "2022-10-29T11:12:09.079226",
     "exception": false,
     "start_time": "2022-10-29T11:12:09.064631",
     "status": "completed"
    },
    "tags": []
   },
   "outputs": [
    {
     "data": {
      "text/html": [
       "<div>\n",
       "<style scoped>\n",
       "    .dataframe tbody tr th:only-of-type {\n",
       "        vertical-align: middle;\n",
       "    }\n",
       "\n",
       "    .dataframe tbody tr th {\n",
       "        vertical-align: top;\n",
       "    }\n",
       "\n",
       "    .dataframe thead th {\n",
       "        text-align: right;\n",
       "    }\n",
       "</style>\n",
       "<table border=\"1\" class=\"dataframe\">\n",
       "  <thead>\n",
       "    <tr style=\"text-align: right;\">\n",
       "      <th></th>\n",
       "      <th>0</th>\n",
       "      <th>1</th>\n",
       "      <th>2</th>\n",
       "    </tr>\n",
       "  </thead>\n",
       "  <tbody>\n",
       "    <tr>\n",
       "      <th>0</th>\n",
       "      <td>1586149451348910081</td>\n",
       "      <td>2022-10-29 00:14:33+00:00</td>\n",
       "      <td>To be super clear, we have not yet made any ch...</td>\n",
       "    </tr>\n",
       "    <tr>\n",
       "      <th>1</th>\n",
       "      <td>1586108809772089345</td>\n",
       "      <td>2022-10-28 21:33:03+00:00</td>\n",
       "      <td>Ligma Johnson had it coming 🍆 💦 https://t.co/C...</td>\n",
       "    </tr>\n",
       "    <tr>\n",
       "      <th>2</th>\n",
       "      <td>1586104694421659648</td>\n",
       "      <td>2022-10-28 21:16:42+00:00</td>\n",
       "      <td>Comedy is now legal on Twitter</td>\n",
       "    </tr>\n",
       "    <tr>\n",
       "      <th>3</th>\n",
       "      <td>1586101267981426689</td>\n",
       "      <td>2022-10-28 21:03:05+00:00</td>\n",
       "      <td>RT @Tesla: Solar + Powerwall ensures you never...</td>\n",
       "    </tr>\n",
       "    <tr>\n",
       "      <th>4</th>\n",
       "      <td>1586059953311137792</td>\n",
       "      <td>2022-10-28 18:18:55+00:00</td>\n",
       "      <td>Twitter will be forming a content moderation c...</td>\n",
       "    </tr>\n",
       "  </tbody>\n",
       "</table>\n",
       "</div>"
      ],
      "text/plain": [
       "                     0                         1  \\\n",
       "0  1586149451348910081 2022-10-29 00:14:33+00:00   \n",
       "1  1586108809772089345 2022-10-28 21:33:03+00:00   \n",
       "2  1586104694421659648 2022-10-28 21:16:42+00:00   \n",
       "3  1586101267981426689 2022-10-28 21:03:05+00:00   \n",
       "4  1586059953311137792 2022-10-28 18:18:55+00:00   \n",
       "\n",
       "                                                   2  \n",
       "0  To be super clear, we have not yet made any ch...  \n",
       "1  Ligma Johnson had it coming 🍆 💦 https://t.co/C...  \n",
       "2                     Comedy is now legal on Twitter  \n",
       "3  RT @Tesla: Solar + Powerwall ensures you never...  \n",
       "4  Twitter will be forming a content moderation c...  "
      ]
     },
     "execution_count": 12,
     "metadata": {},
     "output_type": "execute_result"
    }
   ],
   "source": [
    "tweets_df.head()"
   ]
  },
  {
   "cell_type": "markdown",
   "id": "93ffa7ed",
   "metadata": {
    "papermill": {
     "duration": 0.005463,
     "end_time": "2022-10-29T11:12:09.090061",
     "exception": false,
     "start_time": "2022-10-29T11:12:09.084598",
     "status": "completed"
    },
    "tags": []
   },
   "source": [
    "### Get Last Saved Tweets"
   ]
  },
  {
   "cell_type": "code",
   "execution_count": 13,
   "id": "3e6c7bd4",
   "metadata": {
    "execution": {
     "iopub.execute_input": "2022-10-29T11:12:09.101512Z",
     "iopub.status.busy": "2022-10-29T11:12:09.101286Z",
     "iopub.status.idle": "2022-10-29T11:12:09.154499Z",
     "shell.execute_reply": "2022-10-29T11:12:09.153830Z"
    },
    "papermill": {
     "duration": 0.060823,
     "end_time": "2022-10-29T11:12:09.156195",
     "exception": false,
     "start_time": "2022-10-29T11:12:09.095372",
     "status": "completed"
    },
    "tags": []
   },
   "outputs": [],
   "source": [
    "old_tweets_and_replies_df = pd.read_csv(\"../input/elon-musk-tweets-dataset/tweets_and_replies.csv\", skiprows = 1, header = None)\n",
    "old_tweets_df = pd.read_csv(\"../input/elon-musk-tweets-dataset/tweets.csv\",skiprows = 1, header = None)"
   ]
  },
  {
   "cell_type": "code",
   "execution_count": 14,
   "id": "1ba6b2bf",
   "metadata": {
    "execution": {
     "iopub.execute_input": "2022-10-29T11:12:09.168577Z",
     "iopub.status.busy": "2022-10-29T11:12:09.167791Z",
     "iopub.status.idle": "2022-10-29T11:12:09.180861Z",
     "shell.execute_reply": "2022-10-29T11:12:09.180126Z"
    },
    "papermill": {
     "duration": 0.020917,
     "end_time": "2022-10-29T11:12:09.182418",
     "exception": false,
     "start_time": "2022-10-29T11:12:09.161501",
     "status": "completed"
    },
    "tags": []
   },
   "outputs": [
    {
     "data": {
      "text/html": [
       "<div>\n",
       "<style scoped>\n",
       "    .dataframe tbody tr th:only-of-type {\n",
       "        vertical-align: middle;\n",
       "    }\n",
       "\n",
       "    .dataframe tbody tr th {\n",
       "        vertical-align: top;\n",
       "    }\n",
       "\n",
       "    .dataframe thead th {\n",
       "        text-align: right;\n",
       "    }\n",
       "</style>\n",
       "<table border=\"1\" class=\"dataframe\">\n",
       "  <thead>\n",
       "    <tr style=\"text-align: right;\">\n",
       "      <th></th>\n",
       "      <th>0</th>\n",
       "      <th>1</th>\n",
       "      <th>2</th>\n",
       "    </tr>\n",
       "  </thead>\n",
       "  <tbody>\n",
       "    <tr>\n",
       "      <th>0</th>\n",
       "      <td>1585841080431321088</td>\n",
       "      <td>2022-10-28 03:49:11+00:00</td>\n",
       "      <td>the bird is freed</td>\n",
       "    </tr>\n",
       "    <tr>\n",
       "      <th>1</th>\n",
       "      <td>1585811291851018241</td>\n",
       "      <td>2022-10-28 01:50:49+00:00</td>\n",
       "      <td>Falcon rockets to orbit as seen from LA https:...</td>\n",
       "    </tr>\n",
       "    <tr>\n",
       "      <th>2</th>\n",
       "      <td>1585804896841846785</td>\n",
       "      <td>2022-10-28 01:25:24+00:00</td>\n",
       "      <td>RT @SpaceX: Falcon 9’s first stage has landed ...</td>\n",
       "    </tr>\n",
       "    <tr>\n",
       "      <th>3</th>\n",
       "      <td>1585804876851789824</td>\n",
       "      <td>2022-10-28 01:25:20+00:00</td>\n",
       "      <td>RT @SpaceX: Liftoff! https://t.co/B0Il6HsYBS</td>\n",
       "    </tr>\n",
       "    <tr>\n",
       "      <th>4</th>\n",
       "      <td>1585804859776782336</td>\n",
       "      <td>2022-10-28 01:25:16+00:00</td>\n",
       "      <td>RT @SpaceX: Watch Falcon 9 launch 53 Starlink ...</td>\n",
       "    </tr>\n",
       "  </tbody>\n",
       "</table>\n",
       "</div>"
      ],
      "text/plain": [
       "                     0                          1  \\\n",
       "0  1585841080431321088  2022-10-28 03:49:11+00:00   \n",
       "1  1585811291851018241  2022-10-28 01:50:49+00:00   \n",
       "2  1585804896841846785  2022-10-28 01:25:24+00:00   \n",
       "3  1585804876851789824  2022-10-28 01:25:20+00:00   \n",
       "4  1585804859776782336  2022-10-28 01:25:16+00:00   \n",
       "\n",
       "                                                   2  \n",
       "0                                  the bird is freed  \n",
       "1  Falcon rockets to orbit as seen from LA https:...  \n",
       "2  RT @SpaceX: Falcon 9’s first stage has landed ...  \n",
       "3       RT @SpaceX: Liftoff! https://t.co/B0Il6HsYBS  \n",
       "4  RT @SpaceX: Watch Falcon 9 launch 53 Starlink ...  "
      ]
     },
     "execution_count": 14,
     "metadata": {},
     "output_type": "execute_result"
    }
   ],
   "source": [
    "old_tweets_df.head()"
   ]
  },
  {
   "cell_type": "markdown",
   "id": "7ecbe03e",
   "metadata": {
    "papermill": {
     "duration": 0.005296,
     "end_time": "2022-10-29T11:12:09.193249",
     "exception": false,
     "start_time": "2022-10-29T11:12:09.187953",
     "status": "completed"
    },
    "tags": []
   },
   "source": [
    "### Merge Tweets"
   ]
  },
  {
   "cell_type": "code",
   "execution_count": 15,
   "id": "182d53fd",
   "metadata": {
    "execution": {
     "iopub.execute_input": "2022-10-29T11:12:09.205398Z",
     "iopub.status.busy": "2022-10-29T11:12:09.204850Z",
     "iopub.status.idle": "2022-10-29T11:12:09.238150Z",
     "shell.execute_reply": "2022-10-29T11:12:09.237333Z"
    },
    "papermill": {
     "duration": 0.041544,
     "end_time": "2022-10-29T11:12:09.240267",
     "exception": false,
     "start_time": "2022-10-29T11:12:09.198723",
     "status": "completed"
    },
    "tags": []
   },
   "outputs": [],
   "source": [
    "new_tweets = pd.concat([tweets_df,old_tweets_df]).drop_duplicates()\n",
    "new_tweets_and_replies = pd.concat([tweets_and_replies_df,old_tweets_and_replies_df]).drop_duplicates()"
   ]
  },
  {
   "cell_type": "code",
   "execution_count": 16,
   "id": "9ffa6c56",
   "metadata": {
    "execution": {
     "iopub.execute_input": "2022-10-29T11:12:09.252957Z",
     "iopub.status.busy": "2022-10-29T11:12:09.252665Z",
     "iopub.status.idle": "2022-10-29T11:12:09.295527Z",
     "shell.execute_reply": "2022-10-29T11:12:09.294666Z"
    },
    "papermill": {
     "duration": 0.051414,
     "end_time": "2022-10-29T11:12:09.297502",
     "exception": false,
     "start_time": "2022-10-29T11:12:09.246088",
     "status": "completed"
    },
    "tags": []
   },
   "outputs": [],
   "source": [
    "new_tweets.to_csv(\"tweets.csv\", header=[\"Id\", \"Date\", \"Text\"], index=False)\n",
    "new_tweets_and_replies.to_csv(\"tweets_and_replies.csv\", header=[\"Id\", \"Date\", \"Text\", \"ConversationId\"], index=False)"
   ]
  },
  {
   "cell_type": "code",
   "execution_count": 17,
   "id": "fabcf973",
   "metadata": {
    "execution": {
     "iopub.execute_input": "2022-10-29T11:12:09.310158Z",
     "iopub.status.busy": "2022-10-29T11:12:09.309881Z",
     "iopub.status.idle": "2022-10-29T11:12:09.318785Z",
     "shell.execute_reply": "2022-10-29T11:12:09.317862Z"
    },
    "papermill": {
     "duration": 0.017036,
     "end_time": "2022-10-29T11:12:09.320504",
     "exception": false,
     "start_time": "2022-10-29T11:12:09.303468",
     "status": "completed"
    },
    "tags": []
   },
   "outputs": [
    {
     "data": {
      "text/html": [
       "<div>\n",
       "<style scoped>\n",
       "    .dataframe tbody tr th:only-of-type {\n",
       "        vertical-align: middle;\n",
       "    }\n",
       "\n",
       "    .dataframe tbody tr th {\n",
       "        vertical-align: top;\n",
       "    }\n",
       "\n",
       "    .dataframe thead th {\n",
       "        text-align: right;\n",
       "    }\n",
       "</style>\n",
       "<table border=\"1\" class=\"dataframe\">\n",
       "  <thead>\n",
       "    <tr style=\"text-align: right;\">\n",
       "      <th></th>\n",
       "      <th>0</th>\n",
       "      <th>1</th>\n",
       "      <th>2</th>\n",
       "    </tr>\n",
       "  </thead>\n",
       "  <tbody>\n",
       "    <tr>\n",
       "      <th>0</th>\n",
       "      <td>1586149451348910081</td>\n",
       "      <td>2022-10-29 00:14:33+00:00</td>\n",
       "      <td>To be super clear, we have not yet made any ch...</td>\n",
       "    </tr>\n",
       "    <tr>\n",
       "      <th>1</th>\n",
       "      <td>1586108809772089345</td>\n",
       "      <td>2022-10-28 21:33:03+00:00</td>\n",
       "      <td>Ligma Johnson had it coming 🍆 💦 https://t.co/C...</td>\n",
       "    </tr>\n",
       "    <tr>\n",
       "      <th>2</th>\n",
       "      <td>1586104694421659648</td>\n",
       "      <td>2022-10-28 21:16:42+00:00</td>\n",
       "      <td>Comedy is now legal on Twitter</td>\n",
       "    </tr>\n",
       "    <tr>\n",
       "      <th>3</th>\n",
       "      <td>1586101267981426689</td>\n",
       "      <td>2022-10-28 21:03:05+00:00</td>\n",
       "      <td>RT @Tesla: Solar + Powerwall ensures you never...</td>\n",
       "    </tr>\n",
       "    <tr>\n",
       "      <th>4</th>\n",
       "      <td>1586059953311137792</td>\n",
       "      <td>2022-10-28 18:18:55+00:00</td>\n",
       "      <td>Twitter will be forming a content moderation c...</td>\n",
       "    </tr>\n",
       "  </tbody>\n",
       "</table>\n",
       "</div>"
      ],
      "text/plain": [
       "                     0                          1  \\\n",
       "0  1586149451348910081  2022-10-29 00:14:33+00:00   \n",
       "1  1586108809772089345  2022-10-28 21:33:03+00:00   \n",
       "2  1586104694421659648  2022-10-28 21:16:42+00:00   \n",
       "3  1586101267981426689  2022-10-28 21:03:05+00:00   \n",
       "4  1586059953311137792  2022-10-28 18:18:55+00:00   \n",
       "\n",
       "                                                   2  \n",
       "0  To be super clear, we have not yet made any ch...  \n",
       "1  Ligma Johnson had it coming 🍆 💦 https://t.co/C...  \n",
       "2                     Comedy is now legal on Twitter  \n",
       "3  RT @Tesla: Solar + Powerwall ensures you never...  \n",
       "4  Twitter will be forming a content moderation c...  "
      ]
     },
     "execution_count": 17,
     "metadata": {},
     "output_type": "execute_result"
    }
   ],
   "source": [
    "new_tweets.head()"
   ]
  }
 ],
 "metadata": {
  "kernelspec": {
   "display_name": "Python 3",
   "language": "python",
   "name": "python3"
  },
  "language_info": {
   "codemirror_mode": {
    "name": "ipython",
    "version": 3
   },
   "file_extension": ".py",
   "mimetype": "text/x-python",
   "name": "python",
   "nbconvert_exporter": "python",
   "pygments_lexer": "ipython3",
   "version": "3.7.12"
  },
  "papermill": {
   "default_parameters": {},
   "duration": 30.835295,
   "end_time": "2022-10-29T11:12:09.743494",
   "environment_variables": {},
   "exception": null,
   "input_path": "__notebook__.ipynb",
   "output_path": "__notebook__.ipynb",
   "parameters": {},
   "start_time": "2022-10-29T11:11:38.908199",
   "version": "2.3.4"
  }
 },
 "nbformat": 4,
 "nbformat_minor": 5
}
